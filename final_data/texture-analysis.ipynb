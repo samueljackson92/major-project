{
 "metadata": {
  "name": "",
  "signature": "sha256:254807f3f2e8fec879cf6d354d38c8df07ec12645a106e118cc7f33115b8f76f"
 },
 "nbformat": 3,
 "nbformat_minor": 0,
 "worksheets": [
  {
   "cells": [
    {
     "cell_type": "code",
     "collapsed": false,
     "input": [
      "%matplotlib inline\n",
      "import pandas as pd\n",
      "import numpy as np\n",
      "import scipy.stats as stats\n",
      "import matplotlib.pyplot as plt\n",
      "import mia"
     ],
     "language": "python",
     "metadata": {},
     "outputs": [
      {
       "output_type": "stream",
       "stream": "stdout",
       "text": [
        "Warning: Cannot change to a different GUI toolkit: qt. Using osx instead.\n"
       ]
      }
     ],
     "prompt_number": 97
    },
    {
     "cell_type": "markdown",
     "metadata": {},
     "source": [
      "#Loading and Preprocessing"
     ]
    },
    {
     "cell_type": "markdown",
     "metadata": {},
     "source": [
      "Loading the hologic and synthetic datasets."
     ]
    },
    {
     "cell_type": "code",
     "collapsed": false,
     "input": [
      "hologic = pd.DataFrame.from_csv(\"real_texture.csv\")\n",
      "hologic.drop(hologic.columns[:2], axis=1, inplace=True)\n",
      "hologic.drop('breast_area', axis=1, inplace=True)\n",
      "\n",
      "phantom = pd.DataFrame.from_csv(\"synthetic_texture.csv\")\n",
      "phantom.drop(phantom.columns[:2], axis=1, inplace=True)\n",
      "phantom.drop('breast_area', axis=1, inplace=True)"
     ],
     "language": "python",
     "metadata": {},
     "outputs": [],
     "prompt_number": 56
    },
    {
     "cell_type": "markdown",
     "metadata": {},
     "source": [
      "Loading the meta data for the real and synthetic datasets. "
     ]
    },
    {
     "cell_type": "code",
     "collapsed": false,
     "input": [
      "hologic_meta = mia.analysis.create_hologic_meta_data(hologic, \"meta_data/real_meta.csv\")\n",
      "phantom_meta = mia.analysis.create_synthetic_meta_data(phantom, \n",
      "                                                       \"meta_data/synthetic_meta.csv\")\n",
      "phantom_meta.index.name = 'img_name'"
     ],
     "language": "python",
     "metadata": {},
     "outputs": [],
     "prompt_number": 57
    },
    {
     "cell_type": "markdown",
     "metadata": {},
     "source": [
      "Prepare the BI-RADS/VBD labels for both datasets."
     ]
    },
    {
     "cell_type": "code",
     "collapsed": false,
     "input": [
      "hologic_labels = hologic_meta.drop_duplicates().BIRADS\n",
      "phantom_labels = phantom_meta['VBD.1']\n",
      "\n",
      "class_labels = pd.concat([hologic_labels, phantom_labels])\n",
      "class_labels.index.name = \"img_name\"\n",
      "labels = mia.analysis.remove_duplicate_index(class_labels)[0]"
     ],
     "language": "python",
     "metadata": {},
     "outputs": [],
     "prompt_number": 58
    },
    {
     "cell_type": "markdown",
     "metadata": {},
     "source": [
      "# Creating Features"
     ]
    },
    {
     "cell_type": "markdown",
     "metadata": {},
     "source": [
      "Create blob features from distribution of blobs"
     ]
    },
    {
     "cell_type": "code",
     "collapsed": false,
     "input": [
      "hologic_texture_features = mia.analysis.group_by_scale_space(hologic)\n",
      "phantom_texture_features = mia.analysis.group_by_scale_space(phantom)"
     ],
     "language": "python",
     "metadata": {},
     "outputs": [],
     "prompt_number": 59
    },
    {
     "cell_type": "markdown",
     "metadata": {},
     "source": [
      "Take a random subset of the real mammograms. This is important so that each patient is not over represented."
     ]
    },
    {
     "cell_type": "code",
     "collapsed": false,
     "input": [
      "hologic_texture_features['patient_id'] = hologic_meta.drop_duplicates()['patient_id']\n",
      "hologic_texture_features_subset = mia.analysis.create_random_subset(hologic_texture_features, \n",
      "                                                                    'patient_id')"
     ],
     "language": "python",
     "metadata": {},
     "outputs": [],
     "prompt_number": 60
    },
    {
     "cell_type": "markdown",
     "metadata": {},
     "source": [
      "Take a random subset of the phantom mammograms. This is important so that each case is not over represented."
     ]
    },
    {
     "cell_type": "code",
     "collapsed": false,
     "input": [
      "syn_feature_meta = mia.analysis.remove_duplicate_index(phantom_meta)\n",
      "phantom_texture_features['phantom_name'] = syn_feature_meta.phantom_name.tolist()\n",
      "phantom_texture_features_subset = mia.analysis.create_random_subset(phantom_texture_features, \n",
      "                                                                    'phantom_name')"
     ],
     "language": "python",
     "metadata": {},
     "outputs": [],
     "prompt_number": 61
    },
    {
     "cell_type": "markdown",
     "metadata": {},
     "source": [
      "Combine the features from both datasets."
     ]
    },
    {
     "cell_type": "code",
     "collapsed": false,
     "input": [
      "features = pd.concat([hologic_texture_features_subset, phantom_texture_features_subset])\n",
      "assert features.shape[0] == 96\n",
      "features.head()"
     ],
     "language": "python",
     "metadata": {},
     "outputs": [
      {
       "html": [
        "<div style=\"max-height:1000px;max-width:1500px;overflow:auto;\">\n",
        "<table border=\"1\" class=\"dataframe\">\n",
        "  <thead>\n",
        "    <tr style=\"text-align: right;\">\n",
        "      <th></th>\n",
        "      <th>contrast</th>\n",
        "      <th>dissimilarity</th>\n",
        "      <th>homogeneity</th>\n",
        "      <th>energy</th>\n",
        "      <th>contrast_1</th>\n",
        "      <th>dissimilarity_1</th>\n",
        "      <th>homogeneity_1</th>\n",
        "      <th>energy_1</th>\n",
        "      <th>contrast_2</th>\n",
        "      <th>dissimilarity_2</th>\n",
        "      <th>...</th>\n",
        "      <th>homogeneity_7</th>\n",
        "      <th>energy_7</th>\n",
        "      <th>contrast_8</th>\n",
        "      <th>dissimilarity_8</th>\n",
        "      <th>homogeneity_8</th>\n",
        "      <th>energy_8</th>\n",
        "      <th>contrast_9</th>\n",
        "      <th>dissimilarity_9</th>\n",
        "      <th>homogeneity_9</th>\n",
        "      <th>energy_9</th>\n",
        "    </tr>\n",
        "  </thead>\n",
        "  <tbody>\n",
        "    <tr>\n",
        "      <th>p214-010-60001-ml.png</th>\n",
        "      <td> 217.490041</td>\n",
        "      <td> 11.182093</td>\n",
        "      <td> 0.089156</td>\n",
        "      <td> 0.068559</td>\n",
        "      <td> 255.275936</td>\n",
        "      <td> 11.383161</td>\n",
        "      <td> 0.091460</td>\n",
        "      <td> 0.052581</td>\n",
        "      <td> 223.895510</td>\n",
        "      <td> 10.859934</td>\n",
        "      <td>...</td>\n",
        "      <td> 0.094498</td>\n",
        "      <td> 0.014957</td>\n",
        "      <td> 171.293827</td>\n",
        "      <td> 10.346745</td>\n",
        "      <td> 0.094648</td>\n",
        "      <td> 0.014245</td>\n",
        "      <td> 157.454233</td>\n",
        "      <td>  9.781551</td>\n",
        "      <td> 0.105151</td>\n",
        "      <td> 0.019975</td>\n",
        "    </tr>\n",
        "    <tr>\n",
        "      <th>p214-010-60005-cr.png</th>\n",
        "      <td> 153.433967</td>\n",
        "      <td>  9.793844</td>\n",
        "      <td> 0.097550</td>\n",
        "      <td> 0.069263</td>\n",
        "      <td> 258.457447</td>\n",
        "      <td>  9.835271</td>\n",
        "      <td> 0.120798</td>\n",
        "      <td> 0.066882</td>\n",
        "      <td> 148.101614</td>\n",
        "      <td>  9.619357</td>\n",
        "      <td>...</td>\n",
        "      <td> 0.133482</td>\n",
        "      <td> 0.019024</td>\n",
        "      <td> 206.110004</td>\n",
        "      <td>  7.723766</td>\n",
        "      <td> 0.155662</td>\n",
        "      <td> 0.028688</td>\n",
        "      <td> 132.380141</td>\n",
        "      <td>  9.052372</td>\n",
        "      <td> 0.108430</td>\n",
        "      <td> 0.015630</td>\n",
        "    </tr>\n",
        "    <tr>\n",
        "      <th>p214-010-60008-cl.png</th>\n",
        "      <td> 278.832070</td>\n",
        "      <td> 12.986904</td>\n",
        "      <td> 0.077585</td>\n",
        "      <td> 0.069229</td>\n",
        "      <td> 277.870310</td>\n",
        "      <td> 12.970713</td>\n",
        "      <td> 0.079270</td>\n",
        "      <td> 0.052845</td>\n",
        "      <td> 277.135918</td>\n",
        "      <td> 12.925121</td>\n",
        "      <td>...</td>\n",
        "      <td> 0.077955</td>\n",
        "      <td> 0.019611</td>\n",
        "      <td> 262.540916</td>\n",
        "      <td> 12.908503</td>\n",
        "      <td> 0.077737</td>\n",
        "      <td> 0.018621</td>\n",
        "      <td> 257.790604</td>\n",
        "      <td> 12.788839</td>\n",
        "      <td> 0.078467</td>\n",
        "      <td> 0.019016</td>\n",
        "    </tr>\n",
        "    <tr>\n",
        "      <th>p214-010-60012-cl.png</th>\n",
        "      <td> 228.203678</td>\n",
        "      <td> 11.830961</td>\n",
        "      <td> 0.083644</td>\n",
        "      <td> 0.068756</td>\n",
        "      <td> 236.048146</td>\n",
        "      <td> 11.893532</td>\n",
        "      <td> 0.084507</td>\n",
        "      <td> 0.050689</td>\n",
        "      <td> 205.001806</td>\n",
        "      <td> 11.381168</td>\n",
        "      <td>...</td>\n",
        "      <td> 0.108649</td>\n",
        "      <td> 0.025046</td>\n",
        "      <td> 188.258062</td>\n",
        "      <td> 10.873996</td>\n",
        "      <td> 0.089765</td>\n",
        "      <td> 0.014025</td>\n",
        "      <td> 157.454233</td>\n",
        "      <td>  9.781551</td>\n",
        "      <td> 0.105151</td>\n",
        "      <td> 0.019975</td>\n",
        "    </tr>\n",
        "    <tr>\n",
        "      <th>p214-010-60013-ml.png</th>\n",
        "      <td> 233.480009</td>\n",
        "      <td> 12.147959</td>\n",
        "      <td> 0.081455</td>\n",
        "      <td> 0.067923</td>\n",
        "      <td> 243.073751</td>\n",
        "      <td> 12.150686</td>\n",
        "      <td> 0.083336</td>\n",
        "      <td> 0.051553</td>\n",
        "      <td> 221.442525</td>\n",
        "      <td> 11.778895</td>\n",
        "      <td>...</td>\n",
        "      <td> 0.082859</td>\n",
        "      <td> 0.014600</td>\n",
        "      <td> 230.437848</td>\n",
        "      <td> 12.089526</td>\n",
        "      <td> 0.081013</td>\n",
        "      <td> 0.015532</td>\n",
        "      <td> 203.846013</td>\n",
        "      <td> 11.353827</td>\n",
        "      <td> 0.086053</td>\n",
        "      <td> 0.013723</td>\n",
        "    </tr>\n",
        "  </tbody>\n",
        "</table>\n",
        "<p>5 rows \u00d7 40 columns</p>\n",
        "</div>"
       ],
       "metadata": {},
       "output_type": "pyout",
       "prompt_number": 62,
       "text": [
        "                         contrast  dissimilarity  homogeneity    energy  \\\n",
        "p214-010-60001-ml.png  217.490041      11.182093     0.089156  0.068559   \n",
        "p214-010-60005-cr.png  153.433967       9.793844     0.097550  0.069263   \n",
        "p214-010-60008-cl.png  278.832070      12.986904     0.077585  0.069229   \n",
        "p214-010-60012-cl.png  228.203678      11.830961     0.083644  0.068756   \n",
        "p214-010-60013-ml.png  233.480009      12.147959     0.081455  0.067923   \n",
        "\n",
        "                       contrast_1  dissimilarity_1  homogeneity_1  energy_1  \\\n",
        "p214-010-60001-ml.png  255.275936        11.383161       0.091460  0.052581   \n",
        "p214-010-60005-cr.png  258.457447         9.835271       0.120798  0.066882   \n",
        "p214-010-60008-cl.png  277.870310        12.970713       0.079270  0.052845   \n",
        "p214-010-60012-cl.png  236.048146        11.893532       0.084507  0.050689   \n",
        "p214-010-60013-ml.png  243.073751        12.150686       0.083336  0.051553   \n",
        "\n",
        "                       contrast_2  dissimilarity_2    ...     homogeneity_7  \\\n",
        "p214-010-60001-ml.png  223.895510        10.859934    ...          0.094498   \n",
        "p214-010-60005-cr.png  148.101614         9.619357    ...          0.133482   \n",
        "p214-010-60008-cl.png  277.135918        12.925121    ...          0.077955   \n",
        "p214-010-60012-cl.png  205.001806        11.381168    ...          0.108649   \n",
        "p214-010-60013-ml.png  221.442525        11.778895    ...          0.082859   \n",
        "\n",
        "                       energy_7  contrast_8  dissimilarity_8  homogeneity_8  \\\n",
        "p214-010-60001-ml.png  0.014957  171.293827        10.346745       0.094648   \n",
        "p214-010-60005-cr.png  0.019024  206.110004         7.723766       0.155662   \n",
        "p214-010-60008-cl.png  0.019611  262.540916        12.908503       0.077737   \n",
        "p214-010-60012-cl.png  0.025046  188.258062        10.873996       0.089765   \n",
        "p214-010-60013-ml.png  0.014600  230.437848        12.089526       0.081013   \n",
        "\n",
        "                       energy_8  contrast_9  dissimilarity_9  homogeneity_9  \\\n",
        "p214-010-60001-ml.png  0.014245  157.454233         9.781551       0.105151   \n",
        "p214-010-60005-cr.png  0.028688  132.380141         9.052372       0.108430   \n",
        "p214-010-60008-cl.png  0.018621  257.790604        12.788839       0.078467   \n",
        "p214-010-60012-cl.png  0.014025  157.454233         9.781551       0.105151   \n",
        "p214-010-60013-ml.png  0.015532  203.846013        11.353827       0.086053   \n",
        "\n",
        "                       energy_9  \n",
        "p214-010-60001-ml.png  0.019975  \n",
        "p214-010-60005-cr.png  0.015630  \n",
        "p214-010-60008-cl.png  0.019016  \n",
        "p214-010-60012-cl.png  0.019975  \n",
        "p214-010-60013-ml.png  0.013723  \n",
        "\n",
        "[5 rows x 40 columns]"
       ]
      }
     ],
     "prompt_number": 62
    },
    {
     "cell_type": "markdown",
     "metadata": {},
     "source": [
      "Filter some features, such as the min, to remove noise."
     ]
    },
    {
     "cell_type": "code",
     "collapsed": false,
     "input": [
      "selected_features = features.copy()"
     ],
     "language": "python",
     "metadata": {},
     "outputs": [],
     "prompt_number": 63
    },
    {
     "cell_type": "markdown",
     "metadata": {},
     "source": [
      "# Compare Real and Synthetic Features"
     ]
    },
    {
     "cell_type": "markdown",
     "metadata": {},
     "source": [
      "Compare the distributions of features detected from the real mammograms and the phantoms using the Kolmogorov-Smirnov two sample test."
     ]
    },
    {
     "cell_type": "code",
     "collapsed": false,
     "input": [
      "ks_stats = [list(stats.ks_2samp(hologic_texture_features[col], \n",
      "                                phantom_texture_features[col]))\n",
      "                                for col in hologic_texture_features_subset.columns]\n",
      "\n",
      "ks_test = pd.DataFrame(ks_stats, columns=['KS', 'p-value'], \n",
      "                       index=hologic_texture_features_subset.columns)\n",
      "ks_test.to_latex(\"tables/texture_features_ks.tex\")\n",
      "ks_test"
     ],
     "language": "python",
     "metadata": {},
     "outputs": [
      {
       "html": [
        "<div style=\"max-height:1000px;max-width:1500px;overflow:auto;\">\n",
        "<table border=\"1\" class=\"dataframe\">\n",
        "  <thead>\n",
        "    <tr style=\"text-align: right;\">\n",
        "      <th></th>\n",
        "      <th>KS</th>\n",
        "      <th>p-value</th>\n",
        "    </tr>\n",
        "  </thead>\n",
        "  <tbody>\n",
        "    <tr>\n",
        "      <th>contrast</th>\n",
        "      <td> 0.381944</td>\n",
        "      <td> 5.383186e-09</td>\n",
        "    </tr>\n",
        "    <tr>\n",
        "      <th>dissimilarity</th>\n",
        "      <td> 1.000000</td>\n",
        "      <td> 3.587622e-59</td>\n",
        "    </tr>\n",
        "    <tr>\n",
        "      <th>homogeneity</th>\n",
        "      <td> 1.000000</td>\n",
        "      <td> 3.587622e-59</td>\n",
        "    </tr>\n",
        "    <tr>\n",
        "      <th>energy</th>\n",
        "      <td> 1.000000</td>\n",
        "      <td> 3.587622e-59</td>\n",
        "    </tr>\n",
        "    <tr>\n",
        "      <th>contrast_1</th>\n",
        "      <td> 0.586111</td>\n",
        "      <td> 1.318746e-20</td>\n",
        "    </tr>\n",
        "    <tr>\n",
        "      <th>dissimilarity_1</th>\n",
        "      <td> 1.000000</td>\n",
        "      <td> 3.587622e-59</td>\n",
        "    </tr>\n",
        "    <tr>\n",
        "      <th>homogeneity_1</th>\n",
        "      <td> 1.000000</td>\n",
        "      <td> 3.587622e-59</td>\n",
        "    </tr>\n",
        "    <tr>\n",
        "      <th>energy_1</th>\n",
        "      <td> 1.000000</td>\n",
        "      <td> 3.587622e-59</td>\n",
        "    </tr>\n",
        "    <tr>\n",
        "      <th>contrast_2</th>\n",
        "      <td> 0.863889</td>\n",
        "      <td> 2.874007e-44</td>\n",
        "    </tr>\n",
        "    <tr>\n",
        "      <th>dissimilarity_2</th>\n",
        "      <td> 1.000000</td>\n",
        "      <td> 3.587622e-59</td>\n",
        "    </tr>\n",
        "    <tr>\n",
        "      <th>homogeneity_2</th>\n",
        "      <td> 1.000000</td>\n",
        "      <td> 3.587622e-59</td>\n",
        "    </tr>\n",
        "    <tr>\n",
        "      <th>energy_2</th>\n",
        "      <td> 1.000000</td>\n",
        "      <td> 3.587622e-59</td>\n",
        "    </tr>\n",
        "    <tr>\n",
        "      <th>contrast_3</th>\n",
        "      <td> 0.923611</td>\n",
        "      <td> 1.538596e-50</td>\n",
        "    </tr>\n",
        "    <tr>\n",
        "      <th>dissimilarity_3</th>\n",
        "      <td> 1.000000</td>\n",
        "      <td> 3.587622e-59</td>\n",
        "    </tr>\n",
        "    <tr>\n",
        "      <th>homogeneity_3</th>\n",
        "      <td> 1.000000</td>\n",
        "      <td> 3.587622e-59</td>\n",
        "    </tr>\n",
        "    <tr>\n",
        "      <th>energy_3</th>\n",
        "      <td> 1.000000</td>\n",
        "      <td> 3.587622e-59</td>\n",
        "    </tr>\n",
        "    <tr>\n",
        "      <th>contrast_4</th>\n",
        "      <td> 0.845833</td>\n",
        "      <td> 1.870608e-42</td>\n",
        "    </tr>\n",
        "    <tr>\n",
        "      <th>dissimilarity_4</th>\n",
        "      <td> 1.000000</td>\n",
        "      <td> 3.587622e-59</td>\n",
        "    </tr>\n",
        "    <tr>\n",
        "      <th>homogeneity_4</th>\n",
        "      <td> 1.000000</td>\n",
        "      <td> 3.587622e-59</td>\n",
        "    </tr>\n",
        "    <tr>\n",
        "      <th>energy_4</th>\n",
        "      <td> 1.000000</td>\n",
        "      <td> 3.587622e-59</td>\n",
        "    </tr>\n",
        "    <tr>\n",
        "      <th>contrast_5</th>\n",
        "      <td> 0.979167</td>\n",
        "      <td> 9.485680e-57</td>\n",
        "    </tr>\n",
        "    <tr>\n",
        "      <th>dissimilarity_5</th>\n",
        "      <td> 1.000000</td>\n",
        "      <td> 3.587622e-59</td>\n",
        "    </tr>\n",
        "    <tr>\n",
        "      <th>homogeneity_5</th>\n",
        "      <td> 1.000000</td>\n",
        "      <td> 3.587622e-59</td>\n",
        "    </tr>\n",
        "    <tr>\n",
        "      <th>energy_5</th>\n",
        "      <td> 1.000000</td>\n",
        "      <td> 3.587622e-59</td>\n",
        "    </tr>\n",
        "    <tr>\n",
        "      <th>contrast_6</th>\n",
        "      <td> 1.000000</td>\n",
        "      <td> 3.587622e-59</td>\n",
        "    </tr>\n",
        "    <tr>\n",
        "      <th>dissimilarity_6</th>\n",
        "      <td> 1.000000</td>\n",
        "      <td> 3.587622e-59</td>\n",
        "    </tr>\n",
        "    <tr>\n",
        "      <th>homogeneity_6</th>\n",
        "      <td> 1.000000</td>\n",
        "      <td> 3.587622e-59</td>\n",
        "    </tr>\n",
        "    <tr>\n",
        "      <th>energy_6</th>\n",
        "      <td> 0.994444</td>\n",
        "      <td> 1.605940e-58</td>\n",
        "    </tr>\n",
        "    <tr>\n",
        "      <th>contrast_7</th>\n",
        "      <td> 0.969444</td>\n",
        "      <td> 1.230285e-55</td>\n",
        "    </tr>\n",
        "    <tr>\n",
        "      <th>dissimilarity_7</th>\n",
        "      <td> 1.000000</td>\n",
        "      <td> 3.587622e-59</td>\n",
        "    </tr>\n",
        "    <tr>\n",
        "      <th>homogeneity_7</th>\n",
        "      <td> 1.000000</td>\n",
        "      <td> 3.587622e-59</td>\n",
        "    </tr>\n",
        "    <tr>\n",
        "      <th>energy_7</th>\n",
        "      <td> 1.000000</td>\n",
        "      <td> 3.587622e-59</td>\n",
        "    </tr>\n",
        "    <tr>\n",
        "      <th>contrast_8</th>\n",
        "      <td> 0.986111</td>\n",
        "      <td> 1.497318e-57</td>\n",
        "    </tr>\n",
        "    <tr>\n",
        "      <th>dissimilarity_8</th>\n",
        "      <td> 1.000000</td>\n",
        "      <td> 3.587622e-59</td>\n",
        "    </tr>\n",
        "    <tr>\n",
        "      <th>homogeneity_8</th>\n",
        "      <td> 1.000000</td>\n",
        "      <td> 3.587622e-59</td>\n",
        "    </tr>\n",
        "    <tr>\n",
        "      <th>energy_8</th>\n",
        "      <td> 0.997222</td>\n",
        "      <td> 7.598385e-59</td>\n",
        "    </tr>\n",
        "    <tr>\n",
        "      <th>contrast_9</th>\n",
        "      <td> 1.000000</td>\n",
        "      <td> 3.587622e-59</td>\n",
        "    </tr>\n",
        "    <tr>\n",
        "      <th>dissimilarity_9</th>\n",
        "      <td> 1.000000</td>\n",
        "      <td> 3.587622e-59</td>\n",
        "    </tr>\n",
        "    <tr>\n",
        "      <th>homogeneity_9</th>\n",
        "      <td> 1.000000</td>\n",
        "      <td> 3.587622e-59</td>\n",
        "    </tr>\n",
        "    <tr>\n",
        "      <th>energy_9</th>\n",
        "      <td> 1.000000</td>\n",
        "      <td> 3.587622e-59</td>\n",
        "    </tr>\n",
        "  </tbody>\n",
        "</table>\n",
        "</div>"
       ],
       "metadata": {},
       "output_type": "pyout",
       "prompt_number": 64,
       "text": [
        "                       KS       p-value\n",
        "contrast         0.381944  5.383186e-09\n",
        "dissimilarity    1.000000  3.587622e-59\n",
        "homogeneity      1.000000  3.587622e-59\n",
        "energy           1.000000  3.587622e-59\n",
        "contrast_1       0.586111  1.318746e-20\n",
        "dissimilarity_1  1.000000  3.587622e-59\n",
        "homogeneity_1    1.000000  3.587622e-59\n",
        "energy_1         1.000000  3.587622e-59\n",
        "contrast_2       0.863889  2.874007e-44\n",
        "dissimilarity_2  1.000000  3.587622e-59\n",
        "homogeneity_2    1.000000  3.587622e-59\n",
        "energy_2         1.000000  3.587622e-59\n",
        "contrast_3       0.923611  1.538596e-50\n",
        "dissimilarity_3  1.000000  3.587622e-59\n",
        "homogeneity_3    1.000000  3.587622e-59\n",
        "energy_3         1.000000  3.587622e-59\n",
        "contrast_4       0.845833  1.870608e-42\n",
        "dissimilarity_4  1.000000  3.587622e-59\n",
        "homogeneity_4    1.000000  3.587622e-59\n",
        "energy_4         1.000000  3.587622e-59\n",
        "contrast_5       0.979167  9.485680e-57\n",
        "dissimilarity_5  1.000000  3.587622e-59\n",
        "homogeneity_5    1.000000  3.587622e-59\n",
        "energy_5         1.000000  3.587622e-59\n",
        "contrast_6       1.000000  3.587622e-59\n",
        "dissimilarity_6  1.000000  3.587622e-59\n",
        "homogeneity_6    1.000000  3.587622e-59\n",
        "energy_6         0.994444  1.605940e-58\n",
        "contrast_7       0.969444  1.230285e-55\n",
        "dissimilarity_7  1.000000  3.587622e-59\n",
        "homogeneity_7    1.000000  3.587622e-59\n",
        "energy_7         1.000000  3.587622e-59\n",
        "contrast_8       0.986111  1.497318e-57\n",
        "dissimilarity_8  1.000000  3.587622e-59\n",
        "homogeneity_8    1.000000  3.587622e-59\n",
        "energy_8         0.997222  7.598385e-59\n",
        "contrast_9       1.000000  3.587622e-59\n",
        "dissimilarity_9  1.000000  3.587622e-59\n",
        "homogeneity_9    1.000000  3.587622e-59\n",
        "energy_9         1.000000  3.587622e-59"
       ]
      }
     ],
     "prompt_number": 64
    },
    {
     "cell_type": "markdown",
     "metadata": {},
     "source": [
      "#Dimensionality Reduction\n",
      "\n",
      "## t-SNE\n",
      "Running t-SNE to obtain a two dimensional representation."
     ]
    },
    {
     "cell_type": "code",
     "collapsed": false,
     "input": [
      "real_index = hologic_texture_features_subset.index\n",
      "phantom_index = phantom_texture_features_subset.index"
     ],
     "language": "python",
     "metadata": {},
     "outputs": [],
     "prompt_number": 65
    },
    {
     "cell_type": "code",
     "collapsed": false,
     "input": [
      "kwargs = {\n",
      "    'learning_rate': 200,\n",
      "    'perplexity': 20,\n",
      "    'verbose': 1\n",
      "}"
     ],
     "language": "python",
     "metadata": {},
     "outputs": [],
     "prompt_number": 66
    },
    {
     "cell_type": "code",
     "collapsed": false,
     "input": [
      "SNE_mapping_2d = mia.analysis.tSNE(selected_features, n_components=2, **kwargs)"
     ],
     "language": "python",
     "metadata": {},
     "outputs": [
      {
       "output_type": "stream",
       "stream": "stdout",
       "text": [
        "[t-SNE] Computing pairwise distances...\n",
        "[t-SNE] Computed conditional probabilities for sample 96 / 96\n",
        "[t-SNE] Mean sigma: 1.192292\n",
        "[t-SNE] Error after 83 iterations with early exaggeration: 11.373997"
       ]
      },
      {
       "output_type": "stream",
       "stream": "stdout",
       "text": [
        "\n",
        "[t-SNE] Error after 141 iterations: 0.460456"
       ]
      },
      {
       "output_type": "stream",
       "stream": "stdout",
       "text": [
        "\n"
       ]
      }
     ],
     "prompt_number": 67
    },
    {
     "cell_type": "code",
     "collapsed": false,
     "input": [
      "mia.plotting.plot_mapping_2d(SNE_mapping_2d, real_index, phantom_index, labels)\n",
      "plt.savefig('figures/mappings/texture_SNE_mapping_2d.png', dpi=300)"
     ],
     "language": "python",
     "metadata": {},
     "outputs": [
      {
       "metadata": {},
       "output_type": "display_data",
       "png": "[encoded data removed]",
       "text": [
        "<matplotlib.figure.Figure at 0x10bfde710>"
       ]
      }
     ],
     "prompt_number": 68
    },
    {
     "cell_type": "markdown",
     "metadata": {},
     "source": [
      "Running t-SNE to obtain a 3 dimensional mapping"
     ]
    },
    {
     "cell_type": "code",
     "collapsed": false,
     "input": [
      "SNE_mapping_3d = mia.analysis.tSNE(selected_features, n_components=3, **kwargs)"
     ],
     "language": "python",
     "metadata": {},
     "outputs": [
      {
       "output_type": "stream",
       "stream": "stdout",
       "text": [
        "[t-SNE] Computing pairwise distances...\n",
        "[t-SNE] Computed conditional probabilities for sample 96 / 96\n",
        "[t-SNE] Mean sigma: 1.192292\n",
        "[t-SNE] Error after 100 iterations with early exaggeration: 16.345359"
       ]
      },
      {
       "output_type": "stream",
       "stream": "stdout",
       "text": [
        "\n",
        "[t-SNE] Error after 301 iterations: 2.602024"
       ]
      },
      {
       "output_type": "stream",
       "stream": "stdout",
       "text": [
        "\n"
       ]
      }
     ],
     "prompt_number": 69
    },
    {
     "cell_type": "code",
     "collapsed": false,
     "input": [
      "mia.plotting.plot_mapping_3d(SNE_mapping_3d, real_index, phantom_index, labels)"
     ],
     "language": "python",
     "metadata": {},
     "outputs": [
      {
       "metadata": {},
       "output_type": "pyout",
       "prompt_number": 98,
       "text": [
        "<matplotlib.axes._subplots.Axes3DSubplot at 0x10d6cc350>"
       ]
      }
     ],
     "prompt_number": 98
    },
    {
     "cell_type": "markdown",
     "metadata": {},
     "source": [
      "##Isomap\n",
      "Running Isomap to obtain a 2 dimensional mapping"
     ]
    },
    {
     "cell_type": "code",
     "collapsed": false,
     "input": [
      "iso_kwargs = {\n",
      "    'n_neighbors': 4,\n",
      "}"
     ],
     "language": "python",
     "metadata": {},
     "outputs": [],
     "prompt_number": 71
    },
    {
     "cell_type": "code",
     "collapsed": false,
     "input": [
      "iso_mapping_2d = mia.analysis.isomap(selected_features, n_components=2, **iso_kwargs)"
     ],
     "language": "python",
     "metadata": {},
     "outputs": [],
     "prompt_number": 72
    },
    {
     "cell_type": "code",
     "collapsed": false,
     "input": [
      "mia.plotting.plot_mapping_2d(iso_mapping_2d, real_index, phantom_index, labels)\n",
      "plt.savefig('figures/mappings/texture_iso_mapping_2d.png', dpi=300)"
     ],
     "language": "python",
     "metadata": {},
     "outputs": [
      {
       "metadata": {},
       "output_type": "display_data",
       "png": "[encoded data removed]",
       "text": [
        "<matplotlib.figure.Figure at 0x105de5c10>"
       ]
      }
     ],
     "prompt_number": 73
    },
    {
     "cell_type": "code",
     "collapsed": false,
     "input": [
      "iso_mapping_3d = mia.analysis.isomap(selected_features, n_components=3, **iso_kwargs)"
     ],
     "language": "python",
     "metadata": {},
     "outputs": [],
     "prompt_number": 74
    },
    {
     "cell_type": "code",
     "collapsed": false,
     "input": [
      "mia.plotting.plot_mapping_3d(iso_mapping_3d, real_index, phantom_index, labels)"
     ],
     "language": "python",
     "metadata": {},
     "outputs": [
      {
       "metadata": {},
       "output_type": "pyout",
       "prompt_number": 101,
       "text": [
        "<matplotlib.axes._subplots.Axes3DSubplot at 0x10ee15750>"
       ]
      }
     ],
     "prompt_number": 101
    },
    {
     "cell_type": "markdown",
     "metadata": {},
     "source": [
      "##Locally Linear Embedding\n",
      "Running locally linear embedding to obtain 2d mapping"
     ]
    },
    {
     "cell_type": "code",
     "collapsed": false,
     "input": [
      "lle_kwargs = {\n",
      "    'n_neighbors': 5,\n",
      "}"
     ],
     "language": "python",
     "metadata": {},
     "outputs": [],
     "prompt_number": 76
    },
    {
     "cell_type": "code",
     "collapsed": false,
     "input": [
      "lle_mapping_2d = mia.analysis.lle(selected_features, n_components=2, **lle_kwargs)"
     ],
     "language": "python",
     "metadata": {},
     "outputs": [],
     "prompt_number": 77
    },
    {
     "cell_type": "code",
     "collapsed": false,
     "input": [
      "mia.plotting.plot_mapping_2d(lle_mapping_2d, real_index, phantom_index, labels)\n",
      "plt.savefig('figures/mappings/texture_lle_mapping_2d.png', dpi=300)"
     ],
     "language": "python",
     "metadata": {},
     "outputs": [
      {
       "metadata": {},
       "output_type": "display_data",
       "png": "[encoded data removed]",
       "text": [
        "<matplotlib.figure.Figure at 0x10c7e7a90>"
       ]
      }
     ],
     "prompt_number": 78
    },
    {
     "cell_type": "code",
     "collapsed": false,
     "input": [
      "lle_mapping_3d = mia.analysis.lle(selected_features, n_components=3, **lle_kwargs)"
     ],
     "language": "python",
     "metadata": {},
     "outputs": [],
     "prompt_number": 79
    },
    {
     "cell_type": "code",
     "collapsed": false,
     "input": [
      "mia.plotting.plot_mapping_3d(lle_mapping_3d, real_index, phantom_index, labels)"
     ],
     "language": "python",
     "metadata": {},
     "outputs": [
      {
       "metadata": {},
       "output_type": "pyout",
       "prompt_number": 100,
       "text": [
        "<matplotlib.axes._subplots.Axes3DSubplot at 0x10c0ef1d0>"
       ]
      }
     ],
     "prompt_number": 100
    },
    {
     "cell_type": "markdown",
     "metadata": {},
     "source": [
      "## Quality Assessment of Dimensionality Reduction"
     ]
    },
    {
     "cell_type": "markdown",
     "metadata": {},
     "source": [
      "Assess the quality of the DR against measurements from the co-ranking matrices. First create co-ranking matrices for each of the dimensionality reduction mappings"
     ]
    },
    {
     "cell_type": "code",
     "collapsed": false,
     "input": [
      "max_k = 10"
     ],
     "language": "python",
     "metadata": {},
     "outputs": [],
     "prompt_number": 81
    },
    {
     "cell_type": "code",
     "collapsed": false,
     "input": [
      "SNE_mapping_2d_cm = mia.coranking.coranking_matrix(selected_features, \n",
      "                                                   SNE_mapping_2d)\n",
      "iso_mapping_2d_cm = mia.coranking.coranking_matrix(selected_features, \n",
      "                                                   iso_mapping_2d)\n",
      "lle_mapping_2d_cm = mia.coranking.coranking_matrix(selected_features, \n",
      "                                                   lle_mapping_2d)\n",
      "\n",
      "SNE_mapping_3d_cm = mia.coranking.coranking_matrix(selected_features, \n",
      "                                                   SNE_mapping_3d)\n",
      "iso_mapping_3d_cm = mia.coranking.coranking_matrix(selected_features, \n",
      "                                                   iso_mapping_3d)\n",
      "lle_mapping_3d_cm = mia.coranking.coranking_matrix(selected_features, \n",
      "                                                   lle_mapping_3d)"
     ],
     "language": "python",
     "metadata": {},
     "outputs": [],
     "prompt_number": 82
    },
    {
     "cell_type": "markdown",
     "metadata": {},
     "source": [
      "### 2D Mappings"
     ]
    },
    {
     "cell_type": "code",
     "collapsed": false,
     "input": [
      "SNE_trustworthiness_2d = [mia.coranking.trustworthiness(SNE_mapping_2d_cm, k) \n",
      "                          for k in range(1, max_k)]\n",
      "iso_trustworthiness_2d = [mia.coranking.trustworthiness(iso_mapping_2d_cm, k) \n",
      "                          for k in range(1, max_k)]\n",
      "lle_trustworthiness_2d = [mia.coranking.trustworthiness(lle_mapping_2d_cm, k) \n",
      "                          for k in range(1, max_k)]"
     ],
     "language": "python",
     "metadata": {},
     "outputs": [],
     "prompt_number": 83
    },
    {
     "cell_type": "code",
     "collapsed": false,
     "input": [
      "trustworthiness_df = pd.DataFrame([SNE_trustworthiness_2d,\n",
      "                                   iso_trustworthiness_2d,\n",
      "                                   lle_trustworthiness_2d], \n",
      "                                   index=['SNE', 'Isomap', 'LLE']).T\n",
      "trustworthiness_df.plot()\n",
      "plt.savefig('figures/quality_measures/texture_trustworthiness_2d.png', dpi=300)"
     ],
     "language": "python",
     "metadata": {},
     "outputs": [
      {
       "metadata": {},
       "output_type": "display_data",
       "png": "[encoded data removed]",
       "text": [
        "<matplotlib.figure.Figure at 0x10c2c2c10>"
       ]
      }
     ],
     "prompt_number": 84
    },
    {
     "cell_type": "code",
     "collapsed": false,
     "input": [
      "SNE_continuity_2d = [mia.coranking.continuity(SNE_mapping_2d_cm, k) \n",
      "                     for k in range(1, max_k)]\n",
      "iso_continuity_2d = [mia.coranking.continuity(iso_mapping_2d_cm, k) \n",
      "                     for k in range(1, max_k)]\n",
      "lle_continuity_2d = [mia.coranking.continuity(lle_mapping_2d_cm, k) \n",
      "                     for k in range(1, max_k)]"
     ],
     "language": "python",
     "metadata": {},
     "outputs": [],
     "prompt_number": 85
    },
    {
     "cell_type": "code",
     "collapsed": false,
     "input": [
      "continuity_df = pd.DataFrame([SNE_continuity_2d,\n",
      "                              iso_continuity_2d,\n",
      "                              lle_continuity_2d], \n",
      "                              index=['SNE', 'Isomap', 'LLE']).T\n",
      "continuity_df.plot()\n",
      "plt.savefig('figures/quality_measures/texture_continuity_2d.png', dpi=300)"
     ],
     "language": "python",
     "metadata": {},
     "outputs": [
      {
       "metadata": {},
       "output_type": "display_data",
       "png": "[encoded data removed]",
       "text": [
        "<matplotlib.figure.Figure at 0x10c87bd50>"
       ]
      }
     ],
     "prompt_number": 86
    },
    {
     "cell_type": "code",
     "collapsed": false,
     "input": [
      "SNE_lcmc_2d = [mia.coranking.LCMC(SNE_mapping_2d_cm, k) \n",
      "               for k in range(2, max_k)]\n",
      "iso_lcmc_2d = [mia.coranking.LCMC(iso_mapping_2d_cm, k) \n",
      "               for k in range(2, max_k)]\n",
      "lle_lcmc_2d = [mia.coranking.LCMC(lle_mapping_2d_cm, k) \n",
      "               for k in range(2, max_k)]"
     ],
     "language": "python",
     "metadata": {},
     "outputs": [],
     "prompt_number": 87
    },
    {
     "cell_type": "code",
     "collapsed": false,
     "input": [
      "lcmc_df = pd.DataFrame([SNE_lcmc_2d,\n",
      "                        iso_lcmc_2d,\n",
      "                        lle_lcmc_2d], \n",
      "                        index=['SNE', 'Isomap', 'LLE']).T\n",
      "lcmc_df.plot()\n",
      "plt.savefig('figures/quality_measures/texture_lcmc_2d.png', dpi=300)"
     ],
     "language": "python",
     "metadata": {},
     "outputs": [
      {
       "metadata": {},
       "output_type": "display_data",
       "png": "[encoded data removed]",
       "text": [
        "<matplotlib.figure.Figure at 0x10d9aa610>"
       ]
      }
     ],
     "prompt_number": 88
    },
    {
     "cell_type": "markdown",
     "metadata": {},
     "source": [
      "### 3D Mappings"
     ]
    },
    {
     "cell_type": "code",
     "collapsed": false,
     "input": [
      "SNE_trustworthiness_3d = [mia.coranking.trustworthiness(SNE_mapping_3d_cm, k) \n",
      "                          for k in range(1, max_k)]\n",
      "iso_trustworthiness_3d = [mia.coranking.trustworthiness(iso_mapping_3d_cm, k) \n",
      "                          for k in range(1, max_k)]\n",
      "lle_trustworthiness_3d = [mia.coranking.trustworthiness(lle_mapping_3d_cm, k) \n",
      "                          for k in range(1, max_k)]"
     ],
     "language": "python",
     "metadata": {},
     "outputs": [],
     "prompt_number": 89
    },
    {
     "cell_type": "code",
     "collapsed": false,
     "input": [
      "trustworthiness3d_df = pd.DataFrame([SNE_trustworthiness_3d,\n",
      "                                   iso_trustworthiness_3d,\n",
      "                                   lle_trustworthiness_3d], \n",
      "                                   index=['SNE', 'Isomap', 'LLE']).T\n",
      "trustworthiness3d_df.plot()\n",
      "plt.savefig('figures/quality_measures/texture_trustworthiness_3d.png', dpi=300)"
     ],
     "language": "python",
     "metadata": {},
     "outputs": [
      {
       "metadata": {},
       "output_type": "display_data",
       "png": "[encoded data removed]",
       "text": [
        "<matplotlib.figure.Figure at 0x105ddb950>"
       ]
      }
     ],
     "prompt_number": 90
    },
    {
     "cell_type": "code",
     "collapsed": false,
     "input": [
      "SNE_continuity_3d = [mia.coranking.continuity(SNE_mapping_3d_cm, k) \n",
      "                     for k in range(1, max_k)]\n",
      "iso_continuity_3d = [mia.coranking.continuity(iso_mapping_3d_cm, k) \n",
      "                     for k in range(1, max_k)]\n",
      "lle_continuity_3d = [mia.coranking.continuity(lle_mapping_3d_cm, k) \n",
      "                     for k in range(1, max_k)]"
     ],
     "language": "python",
     "metadata": {},
     "outputs": [],
     "prompt_number": 91
    },
    {
     "cell_type": "code",
     "collapsed": false,
     "input": [
      "continuity3d_df = pd.DataFrame([SNE_continuity_3d,\n",
      "                              iso_continuity_3d,\n",
      "                              lle_continuity_3d], \n",
      "                              index=['SNE', 'Isomap', 'LLE']).T\n",
      "continuity3d_df.plot()\n",
      "plt.savefig('figures/quality_measures/texture_continuity_3d.png', dpi=300)"
     ],
     "language": "python",
     "metadata": {},
     "outputs": [
      {
       "metadata": {},
       "output_type": "display_data",
       "png": "[encoded data removed]",
       "text": [
        "<matplotlib.figure.Figure at 0x10d7f6390>"
       ]
      }
     ],
     "prompt_number": 92
    },
    {
     "cell_type": "code",
     "collapsed": false,
     "input": [
      "SNE_lcmc_3d = [mia.coranking.LCMC(SNE_mapping_3d_cm, k) \n",
      "               for k in range(2, max_k)]\n",
      "iso_lcmc_3d = [mia.coranking.LCMC(iso_mapping_3d_cm, k) \n",
      "               for k in range(2, max_k)]\n",
      "lle_lcmc_3d = [mia.coranking.LCMC(lle_mapping_3d_cm, k) \n",
      "               for k in range(2, max_k)]"
     ],
     "language": "python",
     "metadata": {},
     "outputs": [],
     "prompt_number": 93
    },
    {
     "cell_type": "code",
     "collapsed": false,
     "input": [
      "lcmc3d_df = pd.DataFrame([SNE_lcmc_3d,\n",
      "                        iso_lcmc_3d,\n",
      "                        lle_lcmc_3d], \n",
      "                        index=['SNE', 'Isomap', 'LLE']).T\n",
      "lcmc3d_df.plot()\n",
      "plt.savefig('figures/quality_measures/texture_lcmc_3d.png', dpi=300)"
     ],
     "language": "python",
     "metadata": {},
     "outputs": [
      {
       "metadata": {},
       "output_type": "display_data",
       "png": "[encoded data removed]",
       "text": [
        "<matplotlib.figure.Figure at 0x10d7cd9d0>"
       ]
      }
     ],
     "prompt_number": 94
    }
   ],
   "metadata": {}
  }
 ]
}