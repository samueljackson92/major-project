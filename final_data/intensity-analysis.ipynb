{
 "metadata": {
  "name": "",
  "signature": "sha256:ed8cf8f2d864a5e9e7ea7852fb5d1875cfa66a938a1c8d27bfb3e948c2d93e16"
 },
 "nbformat": 3,
 "nbformat_minor": 0,
 "worksheets": [
  {
   "cells": [
    {
     "cell_type": "code",
     "collapsed": false,
     "input": [
      "%matplotlib inline\n",
      "import pandas as pd\n",
      "import numpy as np\n",
      "import scipy.stats as stats\n",
      "import matplotlib.pyplot as plt\n",
      "import mia"
     ],
     "language": "python",
     "metadata": {},
     "outputs": [],
     "prompt_number": 131
    },
    {
     "cell_type": "markdown",
     "metadata": {},
     "source": [
      "#Loading and Preprocessing"
     ]
    },
    {
     "cell_type": "markdown",
     "metadata": {},
     "source": [
      "Loading the hologic and synthetic datasets."
     ]
    },
    {
     "cell_type": "code",
     "collapsed": false,
     "input": [
      "hologic = pd.DataFrame.from_csv(\"real_intensity.csv\")\n",
      "hologic.drop(hologic.columns[:2], axis=1, inplace=True)\n",
      "hologic.drop('breast_area', axis=1, inplace=True)\n",
      "\n",
      "phantom = pd.DataFrame.from_csv(\"synthetic_intensity.csv\")\n",
      "phantom.drop(phantom.columns[:2], axis=1, inplace=True)\n",
      "phantom.drop('breast_area', axis=1, inplace=True)"
     ],
     "language": "python",
     "metadata": {},
     "outputs": [],
     "prompt_number": 82
    },
    {
     "cell_type": "markdown",
     "metadata": {},
     "source": [
      "Loading the meta data for the real and synthetic datasets. "
     ]
    },
    {
     "cell_type": "code",
     "collapsed": false,
     "input": [
      "hologic_meta = mia.analysis.create_hologic_meta_data(hologic, \"meta_data/real_meta.csv\")\n",
      "phantom_meta = mia.analysis.create_synthetic_meta_data(phantom, \n",
      "                                                        \"meta_data/synthetic_meta.csv\")\n",
      "phantom_meta.index.name = 'img_name'"
     ],
     "language": "python",
     "metadata": {},
     "outputs": [],
     "prompt_number": 83
    },
    {
     "cell_type": "markdown",
     "metadata": {},
     "source": [
      "Prepare the BI-RADS/VBD labels for both datasets."
     ]
    },
    {
     "cell_type": "code",
     "collapsed": false,
     "input": [
      "hologic_labels = hologic_meta.drop_duplicates().BIRADS\n",
      "phantom_labels = phantom_meta['VBD.1']\n",
      "\n",
      "class_labels = pd.concat([hologic_labels, phantom_labels])\n",
      "class_labels.index.name = \"img_name\"\n",
      "labels = mia.analysis.remove_duplicate_index(class_labels)[0]"
     ],
     "language": "python",
     "metadata": {},
     "outputs": [],
     "prompt_number": 84
    },
    {
     "cell_type": "markdown",
     "metadata": {},
     "source": [
      "# Creating Features"
     ]
    },
    {
     "cell_type": "markdown",
     "metadata": {},
     "source": [
      "Create blob features from distribution of blobs"
     ]
    },
    {
     "cell_type": "code",
     "collapsed": false,
     "input": [
      "hologic_intensity_features = mia.analysis.group_by_scale_space(hologic)\n",
      "phantom_intensity_features = mia.analysis.group_by_scale_space(phantom)"
     ],
     "language": "python",
     "metadata": {},
     "outputs": [],
     "prompt_number": 85
    },
    {
     "cell_type": "markdown",
     "metadata": {},
     "source": [
      "Take a random subset of the real mammograms. This is important so that each patient is not over represented."
     ]
    },
    {
     "cell_type": "code",
     "collapsed": false,
     "input": [
      "hologic_intensity_features['patient_id'] = hologic_meta.drop_duplicates()['patient_id']\n",
      "hologic_intensity_features_subset = mia.analysis.create_random_subset(hologic_intensity_features, \n",
      "                                                                      'patient_id')"
     ],
     "language": "python",
     "metadata": {},
     "outputs": [],
     "prompt_number": 86
    },
    {
     "cell_type": "markdown",
     "metadata": {},
     "source": [
      "Take a random subset of the phantom mammograms. This is important so that each case is not over represented."
     ]
    },
    {
     "cell_type": "code",
     "collapsed": false,
     "input": [
      "syn_feature_meta = mia.analysis.remove_duplicate_index(phantom_meta)\n",
      "phantom_intensity_features['phantom_name'] = syn_feature_meta.phantom_name.tolist()\n",
      "phantom_intensity_features_subset \\\n",
      "    = mia.analysis.create_random_subset(phantom_intensity_features, 'phantom_name')"
     ],
     "language": "python",
     "metadata": {},
     "outputs": [],
     "prompt_number": 87
    },
    {
     "cell_type": "markdown",
     "metadata": {},
     "source": [
      "Combine the features from both datasets."
     ]
    },
    {
     "cell_type": "code",
     "collapsed": false,
     "input": [
      "features = pd.concat([hologic_intensity_features_subset, phantom_intensity_features_subset])\n",
      "assert features.shape[0] == 96\n",
      "features.head()"
     ],
     "language": "python",
     "metadata": {},
     "outputs": [
      {
       "html": [
        "<div style=\"max-height:1000px;max-width:1500px;overflow:auto;\">\n",
        "<table border=\"1\" class=\"dataframe\">\n",
        "  <thead>\n",
        "    <tr style=\"text-align: right;\">\n",
        "      <th></th>\n",
        "      <th>count</th>\n",
        "      <th>mean</th>\n",
        "      <th>std</th>\n",
        "      <th>min</th>\n",
        "      <th>25%</th>\n",
        "      <th>50%</th>\n",
        "      <th>75%</th>\n",
        "      <th>max</th>\n",
        "      <th>skew</th>\n",
        "      <th>kurtosis</th>\n",
        "      <th>...</th>\n",
        "      <th>count_9</th>\n",
        "      <th>mean_9</th>\n",
        "      <th>std_9</th>\n",
        "      <th>min_9</th>\n",
        "      <th>25%_9</th>\n",
        "      <th>50%_9</th>\n",
        "      <th>75%_9</th>\n",
        "      <th>max_9</th>\n",
        "      <th>skew_9</th>\n",
        "      <th>kurtosis_9</th>\n",
        "    </tr>\n",
        "  </thead>\n",
        "  <tbody>\n",
        "    <tr>\n",
        "      <th>p214-010-60001-cr.png</th>\n",
        "      <td> 256</td>\n",
        "      <td> 0.558904</td>\n",
        "      <td> 0.087279</td>\n",
        "      <td> 0.328763</td>\n",
        "      <td> 0.510450</td>\n",
        "      <td> 0.570363</td>\n",
        "      <td> 0.622144</td>\n",
        "      <td> 0.724731</td>\n",
        "      <td>-0.406150</td>\n",
        "      <td>-0.127657</td>\n",
        "      <td>...</td>\n",
        "      <td> 131044</td>\n",
        "      <td> 0.541212</td>\n",
        "      <td> 0.118465</td>\n",
        "      <td> 0.141845</td>\n",
        "      <td> 0.462988</td>\n",
        "      <td> 0.546140</td>\n",
        "      <td> 0.624509</td>\n",
        "      <td> 0.921247</td>\n",
        "      <td>-0.150691</td>\n",
        "      <td> 0.148522</td>\n",
        "    </tr>\n",
        "    <tr>\n",
        "      <th>p214-010-60005-ml.png</th>\n",
        "      <td> 256</td>\n",
        "      <td> 0.579815</td>\n",
        "      <td> 0.090863</td>\n",
        "      <td> 0.314655</td>\n",
        "      <td> 0.530318</td>\n",
        "      <td> 0.591799</td>\n",
        "      <td> 0.644746</td>\n",
        "      <td> 0.759436</td>\n",
        "      <td>-0.575184</td>\n",
        "      <td> 0.634554</td>\n",
        "      <td>...</td>\n",
        "      <td> 131044</td>\n",
        "      <td> 0.541212</td>\n",
        "      <td> 0.118465</td>\n",
        "      <td> 0.141845</td>\n",
        "      <td> 0.462988</td>\n",
        "      <td> 0.546140</td>\n",
        "      <td> 0.624509</td>\n",
        "      <td> 0.921247</td>\n",
        "      <td>-0.150691</td>\n",
        "      <td> 0.148522</td>\n",
        "    </tr>\n",
        "    <tr>\n",
        "      <th>p214-010-60008-cr.png</th>\n",
        "      <td> 256</td>\n",
        "      <td> 0.493326</td>\n",
        "      <td> 0.074813</td>\n",
        "      <td> 0.296470</td>\n",
        "      <td> 0.447373</td>\n",
        "      <td> 0.496014</td>\n",
        "      <td> 0.544188</td>\n",
        "      <td> 0.679322</td>\n",
        "      <td>-0.100948</td>\n",
        "      <td> 0.021890</td>\n",
        "      <td>...</td>\n",
        "      <td> 131044</td>\n",
        "      <td> 0.523970</td>\n",
        "      <td> 0.099598</td>\n",
        "      <td> 0.148544</td>\n",
        "      <td> 0.455340</td>\n",
        "      <td> 0.521359</td>\n",
        "      <td> 0.589320</td>\n",
        "      <td> 0.936893</td>\n",
        "      <td>-0.017659</td>\n",
        "      <td> 0.898368</td>\n",
        "    </tr>\n",
        "    <tr>\n",
        "      <th>p214-010-60012-ml.png</th>\n",
        "      <td> 256</td>\n",
        "      <td> 0.469238</td>\n",
        "      <td> 0.081322</td>\n",
        "      <td> 0.254982</td>\n",
        "      <td> 0.415496</td>\n",
        "      <td> 0.473583</td>\n",
        "      <td> 0.527386</td>\n",
        "      <td> 0.660004</td>\n",
        "      <td>-0.204323</td>\n",
        "      <td>-0.192516</td>\n",
        "      <td>...</td>\n",
        "      <td> 131044</td>\n",
        "      <td> 0.541212</td>\n",
        "      <td> 0.118465</td>\n",
        "      <td> 0.141845</td>\n",
        "      <td> 0.462988</td>\n",
        "      <td> 0.546140</td>\n",
        "      <td> 0.624509</td>\n",
        "      <td> 0.921247</td>\n",
        "      <td>-0.150691</td>\n",
        "      <td> 0.148522</td>\n",
        "    </tr>\n",
        "    <tr>\n",
        "      <th>p214-010-60013-mr.png</th>\n",
        "      <td> 256</td>\n",
        "      <td> 0.524458</td>\n",
        "      <td> 0.087562</td>\n",
        "      <td> 0.285158</td>\n",
        "      <td> 0.467286</td>\n",
        "      <td> 0.534160</td>\n",
        "      <td> 0.588593</td>\n",
        "      <td> 0.704526</td>\n",
        "      <td>-0.407108</td>\n",
        "      <td> 0.041762</td>\n",
        "      <td>...</td>\n",
        "      <td> 131044</td>\n",
        "      <td> 0.554975</td>\n",
        "      <td> 0.131461</td>\n",
        "      <td> 0.138075</td>\n",
        "      <td> 0.463040</td>\n",
        "      <td> 0.552301</td>\n",
        "      <td> 0.645746</td>\n",
        "      <td> 0.949791</td>\n",
        "      <td> 0.038416</td>\n",
        "      <td>-0.374100</td>\n",
        "    </tr>\n",
        "  </tbody>\n",
        "</table>\n",
        "<p>5 rows \u00d7 100 columns</p>\n",
        "</div>"
       ],
       "metadata": {},
       "output_type": "pyout",
       "prompt_number": 88,
       "text": [
        "                       count      mean       std       min       25%  \\\n",
        "p214-010-60001-cr.png    256  0.558904  0.087279  0.328763  0.510450   \n",
        "p214-010-60005-ml.png    256  0.579815  0.090863  0.314655  0.530318   \n",
        "p214-010-60008-cr.png    256  0.493326  0.074813  0.296470  0.447373   \n",
        "p214-010-60012-ml.png    256  0.469238  0.081322  0.254982  0.415496   \n",
        "p214-010-60013-mr.png    256  0.524458  0.087562  0.285158  0.467286   \n",
        "\n",
        "                            50%       75%       max      skew  kurtosis  \\\n",
        "p214-010-60001-cr.png  0.570363  0.622144  0.724731 -0.406150 -0.127657   \n",
        "p214-010-60005-ml.png  0.591799  0.644746  0.759436 -0.575184  0.634554   \n",
        "p214-010-60008-cr.png  0.496014  0.544188  0.679322 -0.100948  0.021890   \n",
        "p214-010-60012-ml.png  0.473583  0.527386  0.660004 -0.204323 -0.192516   \n",
        "p214-010-60013-mr.png  0.534160  0.588593  0.704526 -0.407108  0.041762   \n",
        "\n",
        "                          ...      count_9    mean_9     std_9     min_9  \\\n",
        "p214-010-60001-cr.png     ...       131044  0.541212  0.118465  0.141845   \n",
        "p214-010-60005-ml.png     ...       131044  0.541212  0.118465  0.141845   \n",
        "p214-010-60008-cr.png     ...       131044  0.523970  0.099598  0.148544   \n",
        "p214-010-60012-ml.png     ...       131044  0.541212  0.118465  0.141845   \n",
        "p214-010-60013-mr.png     ...       131044  0.554975  0.131461  0.138075   \n",
        "\n",
        "                          25%_9     50%_9     75%_9     max_9    skew_9  \\\n",
        "p214-010-60001-cr.png  0.462988  0.546140  0.624509  0.921247 -0.150691   \n",
        "p214-010-60005-ml.png  0.462988  0.546140  0.624509  0.921247 -0.150691   \n",
        "p214-010-60008-cr.png  0.455340  0.521359  0.589320  0.936893 -0.017659   \n",
        "p214-010-60012-ml.png  0.462988  0.546140  0.624509  0.921247 -0.150691   \n",
        "p214-010-60013-mr.png  0.463040  0.552301  0.645746  0.949791  0.038416   \n",
        "\n",
        "                       kurtosis_9  \n",
        "p214-010-60001-cr.png    0.148522  \n",
        "p214-010-60005-ml.png    0.148522  \n",
        "p214-010-60008-cr.png    0.898368  \n",
        "p214-010-60012-ml.png    0.148522  \n",
        "p214-010-60013-mr.png   -0.374100  \n",
        "\n",
        "[5 rows x 100 columns]"
       ]
      }
     ],
     "prompt_number": 88
    },
    {
     "cell_type": "markdown",
     "metadata": {},
     "source": [
      "Filter some features, such as the min, to remove noise."
     ]
    },
    {
     "cell_type": "code",
     "collapsed": false,
     "input": [
      "selected_features = features.copy()"
     ],
     "language": "python",
     "metadata": {},
     "outputs": [],
     "prompt_number": 89
    },
    {
     "cell_type": "markdown",
     "metadata": {},
     "source": [
      "# Compare Real and Synthetic Features"
     ]
    },
    {
     "cell_type": "markdown",
     "metadata": {},
     "source": [
      "Compare the distributions of features detected from the real mammograms and the phantoms using the Kolmogorov-Smirnov two sample test."
     ]
    },
    {
     "cell_type": "code",
     "collapsed": false,
     "input": [
      "ks_stats = [list(stats.ks_2samp(hologic_intensity_features[col], \n",
      "                                phantom_intensity_features[col]))\n",
      "                                for col in selected_features.columns]\n",
      "\n",
      "ks_test = pd.DataFrame(ks_stats, columns=['KS', 'p-value'], index=selected_features.columns)\n",
      "ks_test.to_latex(\"tables/intensity_features_ks.tex\", longtable=True)\n",
      "ks_test"
     ],
     "language": "python",
     "metadata": {},
     "outputs": [
      {
       "html": [
        "<div style=\"max-height:1000px;max-width:1500px;overflow:auto;\">\n",
        "<table border=\"1\" class=\"dataframe\">\n",
        "  <thead>\n",
        "    <tr style=\"text-align: right;\">\n",
        "      <th></th>\n",
        "      <th>KS</th>\n",
        "      <th>p-value</th>\n",
        "    </tr>\n",
        "  </thead>\n",
        "  <tbody>\n",
        "    <tr>\n",
        "      <th>count</th>\n",
        "      <td> 0.000000</td>\n",
        "      <td> 1.000000e+00</td>\n",
        "    </tr>\n",
        "    <tr>\n",
        "      <th>mean</th>\n",
        "      <td> 1.000000</td>\n",
        "      <td> 3.587622e-59</td>\n",
        "    </tr>\n",
        "    <tr>\n",
        "      <th>std</th>\n",
        "      <td> 0.876389</td>\n",
        "      <td> 1.515491e-45</td>\n",
        "    </tr>\n",
        "    <tr>\n",
        "      <th>min</th>\n",
        "      <td> 1.000000</td>\n",
        "      <td> 3.587622e-59</td>\n",
        "    </tr>\n",
        "    <tr>\n",
        "      <th>25%</th>\n",
        "      <td> 1.000000</td>\n",
        "      <td> 3.587622e-59</td>\n",
        "    </tr>\n",
        "    <tr>\n",
        "      <th>50%</th>\n",
        "      <td> 1.000000</td>\n",
        "      <td> 3.587622e-59</td>\n",
        "    </tr>\n",
        "    <tr>\n",
        "      <th>75%</th>\n",
        "      <td> 1.000000</td>\n",
        "      <td> 3.587622e-59</td>\n",
        "    </tr>\n",
        "    <tr>\n",
        "      <th>max</th>\n",
        "      <td> 1.000000</td>\n",
        "      <td> 3.587622e-59</td>\n",
        "    </tr>\n",
        "    <tr>\n",
        "      <th>skew</th>\n",
        "      <td> 0.891667</td>\n",
        "      <td> 3.923764e-47</td>\n",
        "    </tr>\n",
        "    <tr>\n",
        "      <th>kurtosis</th>\n",
        "      <td> 0.568056</td>\n",
        "      <td> 2.209941e-19</td>\n",
        "    </tr>\n",
        "    <tr>\n",
        "      <th>count_1</th>\n",
        "      <td> 0.000000</td>\n",
        "      <td> 1.000000e+00</td>\n",
        "    </tr>\n",
        "    <tr>\n",
        "      <th>mean_1</th>\n",
        "      <td> 1.000000</td>\n",
        "      <td> 3.587622e-59</td>\n",
        "    </tr>\n",
        "    <tr>\n",
        "      <th>std_1</th>\n",
        "      <td> 0.981944</td>\n",
        "      <td> 4.539903e-57</td>\n",
        "    </tr>\n",
        "    <tr>\n",
        "      <th>min_1</th>\n",
        "      <td> 1.000000</td>\n",
        "      <td> 3.587622e-59</td>\n",
        "    </tr>\n",
        "    <tr>\n",
        "      <th>25%_1</th>\n",
        "      <td> 1.000000</td>\n",
        "      <td> 3.587622e-59</td>\n",
        "    </tr>\n",
        "    <tr>\n",
        "      <th>50%_1</th>\n",
        "      <td> 1.000000</td>\n",
        "      <td> 3.587622e-59</td>\n",
        "    </tr>\n",
        "    <tr>\n",
        "      <th>75%_1</th>\n",
        "      <td> 1.000000</td>\n",
        "      <td> 3.587622e-59</td>\n",
        "    </tr>\n",
        "    <tr>\n",
        "      <th>max_1</th>\n",
        "      <td> 0.997222</td>\n",
        "      <td> 7.598385e-59</td>\n",
        "    </tr>\n",
        "    <tr>\n",
        "      <th>skew_1</th>\n",
        "      <td> 0.784722</td>\n",
        "      <td> 1.335838e-36</td>\n",
        "    </tr>\n",
        "    <tr>\n",
        "      <th>kurtosis_1</th>\n",
        "      <td> 0.466667</td>\n",
        "      <td> 3.216681e-13</td>\n",
        "    </tr>\n",
        "    <tr>\n",
        "      <th>count_2</th>\n",
        "      <td> 0.000000</td>\n",
        "      <td> 1.000000e+00</td>\n",
        "    </tr>\n",
        "    <tr>\n",
        "      <th>mean_2</th>\n",
        "      <td> 1.000000</td>\n",
        "      <td> 3.587622e-59</td>\n",
        "    </tr>\n",
        "    <tr>\n",
        "      <th>std_2</th>\n",
        "      <td> 1.000000</td>\n",
        "      <td> 3.587622e-59</td>\n",
        "    </tr>\n",
        "    <tr>\n",
        "      <th>min_2</th>\n",
        "      <td> 1.000000</td>\n",
        "      <td> 3.587622e-59</td>\n",
        "    </tr>\n",
        "    <tr>\n",
        "      <th>25%_2</th>\n",
        "      <td> 1.000000</td>\n",
        "      <td> 3.587622e-59</td>\n",
        "    </tr>\n",
        "    <tr>\n",
        "      <th>50%_2</th>\n",
        "      <td> 1.000000</td>\n",
        "      <td> 3.587622e-59</td>\n",
        "    </tr>\n",
        "    <tr>\n",
        "      <th>75%_2</th>\n",
        "      <td> 1.000000</td>\n",
        "      <td> 3.587622e-59</td>\n",
        "    </tr>\n",
        "    <tr>\n",
        "      <th>max_2</th>\n",
        "      <td> 0.994444</td>\n",
        "      <td> 1.605940e-58</td>\n",
        "    </tr>\n",
        "    <tr>\n",
        "      <th>skew_2</th>\n",
        "      <td> 0.501389</td>\n",
        "      <td> 3.410114e-15</td>\n",
        "    </tr>\n",
        "    <tr>\n",
        "      <th>kurtosis_2</th>\n",
        "      <td> 0.436111</td>\n",
        "      <td> 1.342503e-11</td>\n",
        "    </tr>\n",
        "    <tr>\n",
        "      <th>...</th>\n",
        "      <td>...</td>\n",
        "      <td>...</td>\n",
        "    </tr>\n",
        "    <tr>\n",
        "      <th>count_7</th>\n",
        "      <td> 0.000000</td>\n",
        "      <td> 1.000000e+00</td>\n",
        "    </tr>\n",
        "    <tr>\n",
        "      <th>mean_7</th>\n",
        "      <td> 1.000000</td>\n",
        "      <td> 3.587622e-59</td>\n",
        "    </tr>\n",
        "    <tr>\n",
        "      <th>std_7</th>\n",
        "      <td> 0.955556</td>\n",
        "      <td> 4.577742e-54</td>\n",
        "    </tr>\n",
        "    <tr>\n",
        "      <th>min_7</th>\n",
        "      <td> 1.000000</td>\n",
        "      <td> 3.587622e-59</td>\n",
        "    </tr>\n",
        "    <tr>\n",
        "      <th>25%_7</th>\n",
        "      <td> 1.000000</td>\n",
        "      <td> 3.587622e-59</td>\n",
        "    </tr>\n",
        "    <tr>\n",
        "      <th>50%_7</th>\n",
        "      <td> 1.000000</td>\n",
        "      <td> 3.587622e-59</td>\n",
        "    </tr>\n",
        "    <tr>\n",
        "      <th>75%_7</th>\n",
        "      <td> 1.000000</td>\n",
        "      <td> 3.587622e-59</td>\n",
        "    </tr>\n",
        "    <tr>\n",
        "      <th>max_7</th>\n",
        "      <td> 0.740278</td>\n",
        "      <td> 1.280685e-32</td>\n",
        "    </tr>\n",
        "    <tr>\n",
        "      <th>skew_7</th>\n",
        "      <td> 0.319444</td>\n",
        "      <td> 2.024353e-06</td>\n",
        "    </tr>\n",
        "    <tr>\n",
        "      <th>kurtosis_7</th>\n",
        "      <td> 0.304167</td>\n",
        "      <td> 7.344875e-06</td>\n",
        "    </tr>\n",
        "    <tr>\n",
        "      <th>count_8</th>\n",
        "      <td> 0.000000</td>\n",
        "      <td> 1.000000e+00</td>\n",
        "    </tr>\n",
        "    <tr>\n",
        "      <th>mean_8</th>\n",
        "      <td> 1.000000</td>\n",
        "      <td> 3.587622e-59</td>\n",
        "    </tr>\n",
        "    <tr>\n",
        "      <th>std_8</th>\n",
        "      <td> 0.929167</td>\n",
        "      <td> 3.823290e-51</td>\n",
        "    </tr>\n",
        "    <tr>\n",
        "      <th>min_8</th>\n",
        "      <td> 1.000000</td>\n",
        "      <td> 3.587622e-59</td>\n",
        "    </tr>\n",
        "    <tr>\n",
        "      <th>25%_8</th>\n",
        "      <td> 1.000000</td>\n",
        "      <td> 3.587622e-59</td>\n",
        "    </tr>\n",
        "    <tr>\n",
        "      <th>50%_8</th>\n",
        "      <td> 1.000000</td>\n",
        "      <td> 3.587622e-59</td>\n",
        "    </tr>\n",
        "    <tr>\n",
        "      <th>75%_8</th>\n",
        "      <td> 1.000000</td>\n",
        "      <td> 3.587622e-59</td>\n",
        "    </tr>\n",
        "    <tr>\n",
        "      <th>max_8</th>\n",
        "      <td> 0.736111</td>\n",
        "      <td> 2.943248e-32</td>\n",
        "    </tr>\n",
        "    <tr>\n",
        "      <th>skew_8</th>\n",
        "      <td> 0.547222</td>\n",
        "      <td> 5.120902e-18</td>\n",
        "    </tr>\n",
        "    <tr>\n",
        "      <th>kurtosis_8</th>\n",
        "      <td> 0.395833</td>\n",
        "      <td> 1.248634e-09</td>\n",
        "    </tr>\n",
        "    <tr>\n",
        "      <th>count_9</th>\n",
        "      <td> 0.000000</td>\n",
        "      <td> 1.000000e+00</td>\n",
        "    </tr>\n",
        "    <tr>\n",
        "      <th>mean_9</th>\n",
        "      <td> 1.000000</td>\n",
        "      <td> 3.587622e-59</td>\n",
        "    </tr>\n",
        "    <tr>\n",
        "      <th>std_9</th>\n",
        "      <td> 0.956944</td>\n",
        "      <td> 3.195999e-54</td>\n",
        "    </tr>\n",
        "    <tr>\n",
        "      <th>min_9</th>\n",
        "      <td> 1.000000</td>\n",
        "      <td> 3.587622e-59</td>\n",
        "    </tr>\n",
        "    <tr>\n",
        "      <th>25%_9</th>\n",
        "      <td> 1.000000</td>\n",
        "      <td> 3.587622e-59</td>\n",
        "    </tr>\n",
        "    <tr>\n",
        "      <th>50%_9</th>\n",
        "      <td> 1.000000</td>\n",
        "      <td> 3.587622e-59</td>\n",
        "    </tr>\n",
        "    <tr>\n",
        "      <th>75%_9</th>\n",
        "      <td> 0.997222</td>\n",
        "      <td> 7.598385e-59</td>\n",
        "    </tr>\n",
        "    <tr>\n",
        "      <th>max_9</th>\n",
        "      <td> 0.794444</td>\n",
        "      <td> 1.674259e-37</td>\n",
        "    </tr>\n",
        "    <tr>\n",
        "      <th>skew_9</th>\n",
        "      <td> 0.702778</td>\n",
        "      <td> 1.934059e-29</td>\n",
        "    </tr>\n",
        "    <tr>\n",
        "      <th>kurtosis_9</th>\n",
        "      <td> 0.891667</td>\n",
        "      <td> 3.923764e-47</td>\n",
        "    </tr>\n",
        "  </tbody>\n",
        "</table>\n",
        "<p>100 rows \u00d7 2 columns</p>\n",
        "</div>"
       ],
       "metadata": {},
       "output_type": "pyout",
       "prompt_number": 90,
       "text": [
        "                  KS       p-value\n",
        "count       0.000000  1.000000e+00\n",
        "mean        1.000000  3.587622e-59\n",
        "std         0.876389  1.515491e-45\n",
        "min         1.000000  3.587622e-59\n",
        "25%         1.000000  3.587622e-59\n",
        "50%         1.000000  3.587622e-59\n",
        "75%         1.000000  3.587622e-59\n",
        "max         1.000000  3.587622e-59\n",
        "skew        0.891667  3.923764e-47\n",
        "kurtosis    0.568056  2.209941e-19\n",
        "count_1     0.000000  1.000000e+00\n",
        "mean_1      1.000000  3.587622e-59\n",
        "std_1       0.981944  4.539903e-57\n",
        "min_1       1.000000  3.587622e-59\n",
        "25%_1       1.000000  3.587622e-59\n",
        "50%_1       1.000000  3.587622e-59\n",
        "75%_1       1.000000  3.587622e-59\n",
        "max_1       0.997222  7.598385e-59\n",
        "skew_1      0.784722  1.335838e-36\n",
        "kurtosis_1  0.466667  3.216681e-13\n",
        "count_2     0.000000  1.000000e+00\n",
        "mean_2      1.000000  3.587622e-59\n",
        "std_2       1.000000  3.587622e-59\n",
        "min_2       1.000000  3.587622e-59\n",
        "25%_2       1.000000  3.587622e-59\n",
        "50%_2       1.000000  3.587622e-59\n",
        "75%_2       1.000000  3.587622e-59\n",
        "max_2       0.994444  1.605940e-58\n",
        "skew_2      0.501389  3.410114e-15\n",
        "kurtosis_2  0.436111  1.342503e-11\n",
        "...              ...           ...\n",
        "count_7     0.000000  1.000000e+00\n",
        "mean_7      1.000000  3.587622e-59\n",
        "std_7       0.955556  4.577742e-54\n",
        "min_7       1.000000  3.587622e-59\n",
        "25%_7       1.000000  3.587622e-59\n",
        "50%_7       1.000000  3.587622e-59\n",
        "75%_7       1.000000  3.587622e-59\n",
        "max_7       0.740278  1.280685e-32\n",
        "skew_7      0.319444  2.024353e-06\n",
        "kurtosis_7  0.304167  7.344875e-06\n",
        "count_8     0.000000  1.000000e+00\n",
        "mean_8      1.000000  3.587622e-59\n",
        "std_8       0.929167  3.823290e-51\n",
        "min_8       1.000000  3.587622e-59\n",
        "25%_8       1.000000  3.587622e-59\n",
        "50%_8       1.000000  3.587622e-59\n",
        "75%_8       1.000000  3.587622e-59\n",
        "max_8       0.736111  2.943248e-32\n",
        "skew_8      0.547222  5.120902e-18\n",
        "kurtosis_8  0.395833  1.248634e-09\n",
        "count_9     0.000000  1.000000e+00\n",
        "mean_9      1.000000  3.587622e-59\n",
        "std_9       0.956944  3.195999e-54\n",
        "min_9       1.000000  3.587622e-59\n",
        "25%_9       1.000000  3.587622e-59\n",
        "50%_9       1.000000  3.587622e-59\n",
        "75%_9       0.997222  7.598385e-59\n",
        "max_9       0.794444  1.674259e-37\n",
        "skew_9      0.702778  1.934059e-29\n",
        "kurtosis_9  0.891667  3.923764e-47\n",
        "\n",
        "[100 rows x 2 columns]"
       ]
      }
     ],
     "prompt_number": 90
    },
    {
     "cell_type": "markdown",
     "metadata": {},
     "source": [
      "#Dimensionality Reduction\n",
      "\n",
      "## t-SNE\n",
      "Running t-SNE to obtain a two dimensional representation."
     ]
    },
    {
     "cell_type": "code",
     "collapsed": false,
     "input": [
      "real_index = hologic_intensity_features_subset.index\n",
      "phantom_index = phantom_intensity_features_subset.index"
     ],
     "language": "python",
     "metadata": {},
     "outputs": [],
     "prompt_number": 91
    },
    {
     "cell_type": "code",
     "collapsed": false,
     "input": [
      "kwargs = {\n",
      "    'learning_rate': 200,\n",
      "    'perplexity': 20,\n",
      "    'verbose': 1\n",
      "}"
     ],
     "language": "python",
     "metadata": {},
     "outputs": [],
     "prompt_number": 92
    },
    {
     "cell_type": "code",
     "collapsed": false,
     "input": [
      "SNE_mapping_2d = mia.analysis.tSNE(selected_features, n_components=2, **kwargs)"
     ],
     "language": "python",
     "metadata": {},
     "outputs": [
      {
       "output_type": "stream",
       "stream": "stdout",
       "text": [
        "[t-SNE] Computing pairwise distances...\n",
        "[t-SNE] Computed conditional probabilities for sample 96 / 96\n",
        "[t-SNE] Mean sigma: 2.693481\n",
        "[t-SNE] Error after 65 iterations with early exaggeration: 12.552178"
       ]
      },
      {
       "output_type": "stream",
       "stream": "stdout",
       "text": [
        "\n",
        "[t-SNE] Error after 136 iterations: 1.190411"
       ]
      },
      {
       "output_type": "stream",
       "stream": "stdout",
       "text": [
        "\n"
       ]
      }
     ],
     "prompt_number": 93
    },
    {
     "cell_type": "code",
     "collapsed": false,
     "input": [
      "mia.plotting.plot_mapping_2d(SNE_mapping_2d, real_index, phantom_index, labels)\n",
      "plt.savefig('figures/mappings/intensity_SNE_mapping_2d.png', dpi=300)"
     ],
     "language": "python",
     "metadata": {},
     "outputs": [
      {
       "metadata": {},
       "output_type": "display_data",
       "png": "[encoded data removed]",
       "text": [
        "<matplotlib.figure.Figure at 0x109189d50>"
       ]
      }
     ],
     "prompt_number": 94
    },
    {
     "cell_type": "markdown",
     "metadata": {},
     "source": [
      "Running t-SNE to obtain a 3 dimensional mapping"
     ]
    },
    {
     "cell_type": "code",
     "collapsed": false,
     "input": [
      "SNE_mapping_3d = mia.analysis.tSNE(selected_features, n_components=3, **kwargs)"
     ],
     "language": "python",
     "metadata": {},
     "outputs": [
      {
       "output_type": "stream",
       "stream": "stdout",
       "text": [
        "[t-SNE] Computing pairwise distances...\n",
        "[t-SNE] Computed conditional probabilities for sample 96 / 96\n",
        "[t-SNE] Mean sigma: 2.693481\n",
        "[t-SNE] Error after 100 iterations with early exaggeration: 16.755029"
       ]
      },
      {
       "output_type": "stream",
       "stream": "stdout",
       "text": [
        "\n",
        "[t-SNE] Error after 314 iterations: 2.633436"
       ]
      },
      {
       "output_type": "stream",
       "stream": "stdout",
       "text": [
        "\n"
       ]
      }
     ],
     "prompt_number": 95
    },
    {
     "cell_type": "code",
     "collapsed": false,
     "input": [
      "mia.plotting.plot_mapping_3d(SNE_mapping_3d, real_index, phantom_index, labels)"
     ],
     "language": "python",
     "metadata": {},
     "outputs": [
      {
       "metadata": {},
       "output_type": "pyout",
       "prompt_number": 127,
       "text": [
        "<matplotlib.axes._subplots.Axes3DSubplot at 0x108bf72d0>"
       ]
      }
     ],
     "prompt_number": 127
    },
    {
     "cell_type": "markdown",
     "metadata": {},
     "source": [
      "##Isomap\n",
      "Running Isomap to obtain a 2 dimensional mapping"
     ]
    },
    {
     "cell_type": "code",
     "collapsed": false,
     "input": [
      "iso_kwargs = {\n",
      "    'n_neighbors': 4,\n",
      "}"
     ],
     "language": "python",
     "metadata": {},
     "outputs": [],
     "prompt_number": 97
    },
    {
     "cell_type": "code",
     "collapsed": false,
     "input": [
      "iso_mapping_2d = mia.analysis.isomap(selected_features, n_components=2, **iso_kwargs)"
     ],
     "language": "python",
     "metadata": {},
     "outputs": [],
     "prompt_number": 98
    },
    {
     "cell_type": "code",
     "collapsed": false,
     "input": [
      "mia.plotting.plot_mapping_2d(iso_mapping_2d, real_index, phantom_index, labels)\n",
      "plt.savefig('figures/mappings/intensity_iso_mapping_2d.png', dpi=300)"
     ],
     "language": "python",
     "metadata": {},
     "outputs": [
      {
       "metadata": {},
       "output_type": "display_data",
       "png": "[encoded data removed]",
       "text": [
        "<matplotlib.figure.Figure at 0x108251d50>"
       ]
      }
     ],
     "prompt_number": 99
    },
    {
     "cell_type": "code",
     "collapsed": false,
     "input": [
      "iso_mapping_3d = mia.analysis.isomap(selected_features, n_components=3, **iso_kwargs)"
     ],
     "language": "python",
     "metadata": {},
     "outputs": [],
     "prompt_number": 100
    },
    {
     "cell_type": "code",
     "collapsed": false,
     "input": [
      "mia.plotting.plot_mapping_3d(iso_mapping_3d, real_index, phantom_index, labels)"
     ],
     "language": "python",
     "metadata": {},
     "outputs": [
      {
       "metadata": {},
       "output_type": "pyout",
       "prompt_number": 129,
       "text": [
        "<matplotlib.axes._subplots.Axes3DSubplot at 0x108ea9090>"
       ]
      }
     ],
     "prompt_number": 129
    },
    {
     "cell_type": "markdown",
     "metadata": {},
     "source": [
      "##Locally Linear Embedding\n",
      "Running locally linear embedding to obtain 2d mapping"
     ]
    },
    {
     "cell_type": "code",
     "collapsed": false,
     "input": [
      "lle_kwargs = {\n",
      "    'n_neighbors': 4,\n",
      "}"
     ],
     "language": "python",
     "metadata": {},
     "outputs": [],
     "prompt_number": 102
    },
    {
     "cell_type": "code",
     "collapsed": false,
     "input": [
      "lle_mapping_2d = mia.analysis.lle(selected_features, n_components=2, **lle_kwargs)"
     ],
     "language": "python",
     "metadata": {},
     "outputs": [],
     "prompt_number": 103
    },
    {
     "cell_type": "code",
     "collapsed": false,
     "input": [
      "mia.plotting.plot_mapping_2d(lle_mapping_2d, real_index, phantom_index, labels)\n",
      "plt.savefig('figures/mappings/intensity_lle_mapping_2d.png', dpi=300)"
     ],
     "language": "python",
     "metadata": {},
     "outputs": [
      {
       "metadata": {},
       "output_type": "display_data",
       "png": "[encoded data removed]",
       "text": [
        "<matplotlib.figure.Figure at 0x1092b5c90>"
       ]
      }
     ],
     "prompt_number": 104
    },
    {
     "cell_type": "code",
     "collapsed": false,
     "input": [
      "lle_mapping_3d = mia.analysis.lle(selected_features, n_components=3, **lle_kwargs)"
     ],
     "language": "python",
     "metadata": {},
     "outputs": [],
     "prompt_number": 105
    },
    {
     "cell_type": "code",
     "collapsed": false,
     "input": [
      "mia.plotting.plot_mapping_3d(lle_mapping_3d, real_index, phantom_index, labels)"
     ],
     "language": "python",
     "metadata": {},
     "outputs": [
      {
       "metadata": {},
       "output_type": "pyout",
       "prompt_number": 130,
       "text": [
        "<matplotlib.axes._subplots.Axes3DSubplot at 0x10a9fe950>"
       ]
      }
     ],
     "prompt_number": 130
    },
    {
     "cell_type": "markdown",
     "metadata": {},
     "source": [
      "## Quality Assessment of Dimensionality Reduction"
     ]
    },
    {
     "cell_type": "markdown",
     "metadata": {},
     "source": [
      "Assess the quality of the DR against measurements from the co-ranking matrices. First create co-ranking matrices for each of the dimensionality reduction mappings"
     ]
    },
    {
     "cell_type": "code",
     "collapsed": false,
     "input": [
      "max_k = 50"
     ],
     "language": "python",
     "metadata": {},
     "outputs": [],
     "prompt_number": 107
    },
    {
     "cell_type": "code",
     "collapsed": false,
     "input": [
      "SNE_mapping_2d_cm = mia.coranking.coranking_matrix(selected_features, \n",
      "                                                   SNE_mapping_2d)\n",
      "iso_mapping_2d_cm = mia.coranking.coranking_matrix(selected_features, \n",
      "                                                   iso_mapping_2d)\n",
      "lle_mapping_2d_cm = mia.coranking.coranking_matrix(selected_features, \n",
      "                                                   lle_mapping_2d)\n",
      "\n",
      "SNE_mapping_3d_cm = mia.coranking.coranking_matrix(selected_features, \n",
      "                                                   SNE_mapping_3d)\n",
      "iso_mapping_3d_cm = mia.coranking.coranking_matrix(selected_features, \n",
      "                                                   iso_mapping_3d)\n",
      "lle_mapping_3d_cm = mia.coranking.coranking_matrix(selected_features, \n",
      "                                                   lle_mapping_3d)"
     ],
     "language": "python",
     "metadata": {},
     "outputs": [],
     "prompt_number": 108
    },
    {
     "cell_type": "markdown",
     "metadata": {},
     "source": [
      "### 2D Mappings"
     ]
    },
    {
     "cell_type": "code",
     "collapsed": false,
     "input": [
      "SNE_trustworthiness_2d = [mia.coranking.trustworthiness(SNE_mapping_2d_cm, k) \n",
      "                          for k in range(1, max_k)]\n",
      "iso_trustworthiness_2d = [mia.coranking.trustworthiness(iso_mapping_2d_cm, k) \n",
      "                          for k in range(1, max_k)]\n",
      "lle_trustworthiness_2d = [mia.coranking.trustworthiness(lle_mapping_2d_cm, k) \n",
      "                          for k in range(1, max_k)]"
     ],
     "language": "python",
     "metadata": {},
     "outputs": [],
     "prompt_number": 109
    },
    {
     "cell_type": "code",
     "collapsed": false,
     "input": [
      "trustworthiness_df = pd.DataFrame([SNE_trustworthiness_2d,\n",
      "                                   iso_trustworthiness_2d,\n",
      "                                   lle_trustworthiness_2d], \n",
      "                                   index=['SNE', 'Isomap', 'LLE']).T\n",
      "trustworthiness_df.plot()\n",
      "plt.savefig('figures/quality_measures/intensity_trustworthiness_2d.png', dpi=300)"
     ],
     "language": "python",
     "metadata": {},
     "outputs": [
      {
       "metadata": {},
       "output_type": "display_data",
       "png": "[encoded data removed]",
       "text": [
        "<matplotlib.figure.Figure at 0x1090edf10>"
       ]
      }
     ],
     "prompt_number": 110
    },
    {
     "cell_type": "code",
     "collapsed": false,
     "input": [
      "SNE_continuity_2d = [mia.coranking.continuity(SNE_mapping_2d_cm, k) \n",
      "                     for k in range(1, max_k)]\n",
      "iso_continuity_2d = [mia.coranking.continuity(iso_mapping_2d_cm, k) \n",
      "                     for k in range(1, max_k)]\n",
      "lle_continuity_2d = [mia.coranking.continuity(lle_mapping_2d_cm, k) \n",
      "                     for k in range(1, max_k)]"
     ],
     "language": "python",
     "metadata": {},
     "outputs": [],
     "prompt_number": 111
    },
    {
     "cell_type": "code",
     "collapsed": false,
     "input": [
      "continuity_df = pd.DataFrame([SNE_continuity_2d,\n",
      "                              iso_continuity_2d,\n",
      "                              lle_continuity_2d], \n",
      "                              index=['SNE', 'Isomap', 'LLE']).T\n",
      "continuity_df.plot()\n",
      "plt.savefig('figures/quality_measures/intensity_continuity_2d.png', dpi=300)"
     ],
     "language": "python",
     "metadata": {},
     "outputs": [
      {
       "metadata": {},
       "output_type": "display_data",
       "png": "[encoded data removed]",
       "text": [
        "<matplotlib.figure.Figure at 0x109a5bd90>"
       ]
      }
     ],
     "prompt_number": 112
    },
    {
     "cell_type": "code",
     "collapsed": false,
     "input": [
      "SNE_lcmc_2d = [mia.coranking.LCMC(SNE_mapping_2d_cm, k) \n",
      "               for k in range(2, max_k)]\n",
      "iso_lcmc_2d = [mia.coranking.LCMC(iso_mapping_2d_cm, k) \n",
      "               for k in range(2, max_k)]\n",
      "lle_lcmc_2d = [mia.coranking.LCMC(lle_mapping_2d_cm, k) \n",
      "               for k in range(2, max_k)]"
     ],
     "language": "python",
     "metadata": {},
     "outputs": [],
     "prompt_number": 113
    },
    {
     "cell_type": "code",
     "collapsed": false,
     "input": [
      "lcmc_df = pd.DataFrame([SNE_lcmc_2d,\n",
      "                        iso_lcmc_2d,\n",
      "                        lle_lcmc_2d], \n",
      "                        index=['SNE', 'Isomap', 'LLE']).T\n",
      "lcmc_df.plot()\n",
      "plt.savefig('figures/quality_measures/intensity_lcmc_2d.png', dpi=300)"
     ],
     "language": "python",
     "metadata": {},
     "outputs": [
      {
       "metadata": {},
       "output_type": "display_data",
       "png": "[encoded data removed]",
       "text": [
        "<matplotlib.figure.Figure at 0x10997fd90>"
       ]
      }
     ],
     "prompt_number": 114
    },
    {
     "cell_type": "markdown",
     "metadata": {},
     "source": [
      "### 3D Mappings"
     ]
    },
    {
     "cell_type": "code",
     "collapsed": false,
     "input": [
      "SNE_trustworthiness_3d = [mia.coranking.trustworthiness(SNE_mapping_3d_cm, k) \n",
      "                          for k in range(1, max_k)]\n",
      "iso_trustworthiness_3d = [mia.coranking.trustworthiness(iso_mapping_3d_cm, k) \n",
      "                          for k in range(1, max_k)]\n",
      "lle_trustworthiness_3d = [mia.coranking.trustworthiness(lle_mapping_3d_cm, k) \n",
      "                          for k in range(1, max_k)]"
     ],
     "language": "python",
     "metadata": {},
     "outputs": [],
     "prompt_number": 115
    },
    {
     "cell_type": "code",
     "collapsed": false,
     "input": [
      "trustworthiness3d_df = pd.DataFrame([SNE_trustworthiness_3d,\n",
      "                                   iso_trustworthiness_3d,\n",
      "                                   lle_trustworthiness_3d], \n",
      "                                   index=['SNE', 'Isomap', 'LLE']).T\n",
      "trustworthiness3d_df.plot()\n",
      "plt.savefig('figures/quality_measures/intensity_trustworthiness_3d.png', dpi=300)"
     ],
     "language": "python",
     "metadata": {},
     "outputs": [
      {
       "metadata": {},
       "output_type": "display_data",
       "png": "[encoded data removed]",
       "text": [
        "<matplotlib.figure.Figure at 0x1091a8b50>"
       ]
      }
     ],
     "prompt_number": 116
    },
    {
     "cell_type": "code",
     "collapsed": false,
     "input": [
      "SNE_continuity_3d = [mia.coranking.continuity(SNE_mapping_3d_cm, k) \n",
      "                     for k in range(1, max_k)]\n",
      "iso_continuity_3d = [mia.coranking.continuity(iso_mapping_3d_cm, k) \n",
      "                     for k in range(1, max_k)]\n",
      "lle_continuity_3d = [mia.coranking.continuity(lle_mapping_3d_cm, k) \n",
      "                     for k in range(1, max_k)]"
     ],
     "language": "python",
     "metadata": {},
     "outputs": [],
     "prompt_number": 117
    },
    {
     "cell_type": "code",
     "collapsed": false,
     "input": [
      "continuity3d_df = pd.DataFrame([SNE_continuity_3d,\n",
      "                              iso_continuity_3d,\n",
      "                              lle_continuity_3d], \n",
      "                              index=['SNE', 'Isomap', 'LLE']).T\n",
      "continuity3d_df.plot()\n",
      "plt.savefig('figures/quality_measures/intensity_continuity_3d.png', dpi=300)"
     ],
     "language": "python",
     "metadata": {},
     "outputs": [
      {
       "metadata": {},
       "output_type": "display_data",
       "png": "[encoded data removed]",
       "text": [
        "<matplotlib.figure.Figure at 0x10826f9d0>"
       ]
      }
     ],
     "prompt_number": 118
    },
    {
     "cell_type": "code",
     "collapsed": false,
     "input": [
      "SNE_lcmc_3d = [mia.coranking.LCMC(SNE_mapping_3d_cm, k) \n",
      "               for k in range(2, max_k)]\n",
      "iso_lcmc_3d = [mia.coranking.LCMC(iso_mapping_3d_cm, k) \n",
      "               for k in range(2, max_k)]\n",
      "lle_lcmc_3d = [mia.coranking.LCMC(lle_mapping_3d_cm, k)\n",
      "               for k in range(2, max_k)]"
     ],
     "language": "python",
     "metadata": {},
     "outputs": [],
     "prompt_number": 119
    },
    {
     "cell_type": "code",
     "collapsed": false,
     "input": [
      "lcmc3d_df = pd.DataFrame([SNE_lcmc_3d,\n",
      "                        iso_lcmc_3d,\n",
      "                        lle_lcmc_3d], \n",
      "                        index=['SNE', 'Isomap', 'LLE']).T\n",
      "lcmc3d_df.plot()\n",
      "plt.savefig('figures/quality_measures/intensity_lcmc_3d.png', dpi=300)"
     ],
     "language": "python",
     "metadata": {},
     "outputs": [
      {
       "metadata": {},
       "output_type": "display_data",
       "png": "[encoded data removed]",
       "text": [
        "<matplotlib.figure.Figure at 0x109b2a310>"
       ]
      }
     ],
     "prompt_number": 120
    }
   ],
   "metadata": {}
  }
 ]
}