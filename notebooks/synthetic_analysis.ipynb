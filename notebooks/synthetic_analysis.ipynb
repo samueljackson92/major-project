{
 "metadata": {
  "name": "",
  "signature": "sha256:0fe628e6d5ac12f593d5482d47dd22dbafa66cbc3cbf5b7de775feebb75da650"
 },
 "nbformat": 3,
 "nbformat_minor": 0,
 "worksheets": [
  {
   "cells": [
    {
     "cell_type": "code",
     "collapsed": false,
     "input": [
      "# %matplotlib inline\n",
      "import pandas as pd\n",
      "from pandas.tools import plotting\n",
      "import mia"
     ],
     "language": "python",
     "metadata": {},
     "outputs": [],
     "prompt_number": 1
    },
    {
     "cell_type": "code",
     "collapsed": false,
     "input": [
      "raw = pd.DataFrame.from_csv('../results/synthetics2/2015-03-15-results_blobs.csv')\n",
      "raw.index = raw.img_name\n",
      "raw = raw.sort()\n",
      "raw.head()"
     ],
     "language": "python",
     "metadata": {},
     "outputs": [
      {
       "html": [
        "<div style=\"max-height:1000px;max-width:1500px;overflow:auto;\">\n",
        "<table border=\"1\" class=\"dataframe\">\n",
        "  <thead>\n",
        "    <tr style=\"text-align: right;\">\n",
        "      <th></th>\n",
        "      <th>x</th>\n",
        "      <th>y</th>\n",
        "      <th>radius</th>\n",
        "      <th>img_name</th>\n",
        "    </tr>\n",
        "    <tr>\n",
        "      <th>img_name</th>\n",
        "      <th></th>\n",
        "      <th></th>\n",
        "      <th></th>\n",
        "      <th></th>\n",
        "    </tr>\n",
        "  </thead>\n",
        "  <tbody>\n",
        "    <tr>\n",
        "      <th>test_Mix_DPerc0_c_0.dcm</th>\n",
        "      <td> 1619</td>\n",
        "      <td>  569</td>\n",
        "      <td>  8.000000</td>\n",
        "      <td> test_Mix_DPerc0_c_0.dcm</td>\n",
        "    </tr>\n",
        "    <tr>\n",
        "      <th>test_Mix_DPerc0_c_0.dcm</th>\n",
        "      <td> 1654</td>\n",
        "      <td>  636</td>\n",
        "      <td> 64.000000</td>\n",
        "      <td> test_Mix_DPerc0_c_0.dcm</td>\n",
        "    </tr>\n",
        "    <tr>\n",
        "      <th>test_Mix_DPerc0_c_0.dcm</th>\n",
        "      <td> 1634</td>\n",
        "      <td> 1564</td>\n",
        "      <td> 64.000000</td>\n",
        "      <td> test_Mix_DPerc0_c_0.dcm</td>\n",
        "    </tr>\n",
        "    <tr>\n",
        "      <th>test_Mix_DPerc0_c_0.dcm</th>\n",
        "      <td> 1581</td>\n",
        "      <td>  837</td>\n",
        "      <td> 90.509668</td>\n",
        "      <td> test_Mix_DPerc0_c_0.dcm</td>\n",
        "    </tr>\n",
        "    <tr>\n",
        "      <th>test_Mix_DPerc0_c_0.dcm</th>\n",
        "      <td> 1604</td>\n",
        "      <td>  730</td>\n",
        "      <td> 64.000000</td>\n",
        "      <td> test_Mix_DPerc0_c_0.dcm</td>\n",
        "    </tr>\n",
        "  </tbody>\n",
        "</table>\n",
        "</div>"
       ],
       "metadata": {},
       "output_type": "pyout",
       "prompt_number": 2,
       "text": [
        "                            x     y     radius                 img_name\n",
        "img_name                                                               \n",
        "test_Mix_DPerc0_c_0.dcm  1619   569   8.000000  test_Mix_DPerc0_c_0.dcm\n",
        "test_Mix_DPerc0_c_0.dcm  1654   636  64.000000  test_Mix_DPerc0_c_0.dcm\n",
        "test_Mix_DPerc0_c_0.dcm  1634  1564  64.000000  test_Mix_DPerc0_c_0.dcm\n",
        "test_Mix_DPerc0_c_0.dcm  1581   837  90.509668  test_Mix_DPerc0_c_0.dcm\n",
        "test_Mix_DPerc0_c_0.dcm  1604   730  64.000000  test_Mix_DPerc0_c_0.dcm"
       ]
      }
     ],
     "prompt_number": 2
    },
    {
     "cell_type": "code",
     "collapsed": false,
     "input": [
      "labels = mia.reduction.load_synthetic_meta_data('../synthetic_labels.csv')\n",
      "labels['group_id'] = labels.index.values\n",
      "labels"
     ],
     "language": "python",
     "metadata": {},
     "outputs": [
      {
       "ename": "AttributeError",
       "evalue": "'module' object has no attribute 'load_synthetic_meta_data'",
       "output_type": "pyerr",
       "traceback": [
        "\u001b[0;31m---------------------------------------------------------------------------\u001b[0m\n\u001b[0;31mAttributeError\u001b[0m                            Traceback (most recent call last)",
        "\u001b[0;32m<ipython-input-3-d82c596344b1>\u001b[0m in \u001b[0;36m<module>\u001b[0;34m()\u001b[0m\n\u001b[0;32m----> 1\u001b[0;31m \u001b[0mlabels\u001b[0m \u001b[0;34m=\u001b[0m \u001b[0mmia\u001b[0m\u001b[0;34m.\u001b[0m\u001b[0mreduction\u001b[0m\u001b[0;34m.\u001b[0m\u001b[0mload_synthetic_meta_data\u001b[0m\u001b[0;34m(\u001b[0m\u001b[0;34m'../synthetic_labels.csv'\u001b[0m\u001b[0;34m)\u001b[0m\u001b[0;34m\u001b[0m\u001b[0m\n\u001b[0m\u001b[1;32m      2\u001b[0m \u001b[0mlabels\u001b[0m\u001b[0;34m[\u001b[0m\u001b[0;34m'group_id'\u001b[0m\u001b[0;34m]\u001b[0m \u001b[0;34m=\u001b[0m \u001b[0mlabels\u001b[0m\u001b[0;34m.\u001b[0m\u001b[0mindex\u001b[0m\u001b[0;34m.\u001b[0m\u001b[0mvalues\u001b[0m\u001b[0;34m\u001b[0m\u001b[0m\n\u001b[1;32m      3\u001b[0m \u001b[0mlabels\u001b[0m\u001b[0;34m\u001b[0m\u001b[0m\n",
        "\u001b[0;31mAttributeError\u001b[0m: 'module' object has no attribute 'load_synthetic_meta_data'"
       ]
      }
     ],
     "prompt_number": 3
    },
    {
     "cell_type": "code",
     "collapsed": false,
     "input": [
      "import re\n",
      "regex_string = r\"test_Mix_DPerc(\\d+)_c_\\d+.dcm\"\n",
      "name_regex = re.compile(regex_string)\n",
      "\n",
      "m = []\n",
      "for name in raw.index.values:\n",
      "    gid = re.match(name_regex, name).group(1)\n",
      "    meta_info = labels[labels['group_id'] == int(gid)]\n",
      "    m.append(meta_info)\n",
      "    \n",
      "meta_data = pd.concat(m, ignore_index=True)\n",
      "meta_data.index = raw.index.values\n",
      "meta_data.head()\n",
      "\n",
      "# meta_data = mia.reduction.create_meta_data_for_synthetic_mammogram(raw, labels)\n",
      "# meta_data.head()"
     ],
     "language": "python",
     "metadata": {},
     "outputs": []
    },
    {
     "cell_type": "code",
     "collapsed": false,
     "input": [
      "raw['class'] = meta_data.group_id\n",
      "mia.plotting.plot_risk_classes_single(r, 'radius')"
     ],
     "language": "python",
     "metadata": {},
     "outputs": []
    },
    {
     "cell_type": "code",
     "collapsed": false,
     "input": [
      "features = pd.DataFrame()\n",
      "for index, frame in raw.groupby('img_name'):\n",
      "    shape_props = mia.features.blobs.blob_props(frame)\n",
      "    features = pd.concat([features, shape_props], ignore_index=True)\n",
      "\n",
      "features.index = raw['img_name'].unique() \n",
      "features.head()"
     ],
     "language": "python",
     "metadata": {},
     "outputs": []
    },
    {
     "cell_type": "code",
     "collapsed": false,
     "input": [
      "# %matplotlib qt\n",
      "%matplotlib inline\n",
      "\n",
      "meta_data['index'] = meta_data.index\n",
      "md = meta_data.drop_duplicates(subset=['index'])\n",
      "\n",
      "features['class'] = md.group_id"
     ],
     "language": "python",
     "metadata": {},
     "outputs": []
    },
    {
     "cell_type": "code",
     "collapsed": false,
     "input": [
      "mia.plotting.plot_risk_classes_single(features[(features['class'] == 5) | (features['class'] == 10)], 'avg_radius')"
     ],
     "language": "python",
     "metadata": {},
     "outputs": []
    },
    {
     "cell_type": "code",
     "collapsed": false,
     "input": [
      "selected_columns = ['blob_count', 'avg_radius', 'std_radius', 'max_radius', 'upper_radius_qt', 'large_radius_count', 'med_radius_count', 'density']\n",
      "selected_features = features[selected_columns]\n",
      "selected_features.describe()\n",
      "# selected_features['class'] = md['class']\n",
      "# mia.plotting.plot_scattermatrix(selected_features, label_name='class')\n",
      "selected_features.head()"
     ],
     "language": "python",
     "metadata": {},
     "outputs": []
    },
    {
     "cell_type": "code",
     "collapsed": false,
     "input": [
      "features_norm = mia.analysis.normalize_data_frame(features)\n",
      "features_norm.columns = features.columns\n",
      "features_norm['class'] = md['BIRADS']\n",
      "features_norm.head()"
     ],
     "language": "python",
     "metadata": {},
     "outputs": []
    },
    {
     "cell_type": "markdown",
     "metadata": {},
     "source": [
      "##Radviz of Shape Features\n",
      "The graph below shows that the features are most dependant on:\n",
      " - max_radius\n",
      " - s.d. of the radius\n",
      " - avg_radius\n",
      "\n",
      "Other things of note are:\n",
      " - the upper qt has a far smaller pull on the data compared to the real mammograms.\n",
      " - average radius and blob count play more of a factor"
     ]
    },
    {
     "cell_type": "code",
     "collapsed": false,
     "input": [
      "%matplotlib qt\n",
      "columns = [c for c in features_norm.columns if c not in []]\n",
      "plotting.parallel_coordinates(features_norm[columns], 'class')"
     ],
     "language": "python",
     "metadata": {},
     "outputs": []
    },
    {
     "cell_type": "code",
     "collapsed": false,
     "input": [
      "%matplotlib qt\n",
      "mapping = mia.analysis.tSNE(selected_features, learning_rate=100, perplexity=10,\n",
      "                            early_exaggeration=5.0, verbose=2)\n",
      "mapping['class'] = md.group_id\n",
      "mia.plotting.plot_scatter_2d(mapping, [0,1], labels='class')"
     ],
     "language": "python",
     "metadata": {},
     "outputs": []
    },
    {
     "cell_type": "code",
     "collapsed": false,
     "input": [
      "selected_features[[0,1]] = mapping[[0,1]]\n",
      "\n",
      "class_2 = selected_features[md.BIRADS == 2]\n",
      "upper_cluster = class_2[class_2[1] > 10]\n",
      "lower_cluster = class_2[class_2[1] <= 10]"
     ],
     "language": "python",
     "metadata": {},
     "outputs": []
    },
    {
     "cell_type": "code",
     "collapsed": false,
     "input": [
      "upper_cluster.describe() - lower_cluster.describe()"
     ],
     "language": "python",
     "metadata": {},
     "outputs": []
    },
    {
     "cell_type": "code",
     "collapsed": false,
     "input": [
      "point = selected_features[selected_features.index.values == 'test_Mix_DPerc75_c_6.dcm']\n",
      "class_3 = selected_features[md.BIRADS == 4]\n",
      "class_3.describe()"
     ],
     "language": "python",
     "metadata": {},
     "outputs": []
    },
    {
     "cell_type": "code",
     "collapsed": false,
     "input": [
      "point"
     ],
     "language": "python",
     "metadata": {},
     "outputs": []
    },
    {
     "cell_type": "code",
     "collapsed": false,
     "input": [
      "selected_features.head()"
     ],
     "language": "python",
     "metadata": {},
     "outputs": []
    }
   ],
   "metadata": {}
  }
 ]
}