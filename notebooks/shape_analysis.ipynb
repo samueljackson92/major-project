{
 "metadata": {
  "name": "",
  "signature": "sha256:785ee0c03e99a58e8b712ea6ce97b15367896a6cf9d559f5d8b7ef2fb6503f50"
 },
 "nbformat": 3,
 "nbformat_minor": 0,
 "worksheets": [
  {
   "cells": [
    {
     "cell_type": "code",
     "collapsed": false,
     "input": [
      "%matplotlib inline\n",
      "import pandas as pd\n",
      "from pandas.tools import plotting\n",
      "import mia"
     ],
     "language": "python",
     "metadata": {},
     "outputs": [],
     "prompt_number": 1
    },
    {
     "cell_type": "code",
     "collapsed": false,
     "input": [
      "raw = pd.DataFrame.from_csv('../results/2015-03-15-results-blobs.csv')\n",
      "raw.index = raw.image_name\n",
      "raw.head()"
     ],
     "language": "python",
     "metadata": {},
     "outputs": [
      {
       "html": [
        "<div style=\"max-height:1000px;max-width:1500px;overflow:auto;\">\n",
        "<table border=\"1\" class=\"dataframe\">\n",
        "  <thead>\n",
        "    <tr style=\"text-align: right;\">\n",
        "      <th></th>\n",
        "      <th>x</th>\n",
        "      <th>y</th>\n",
        "      <th>radius</th>\n",
        "      <th>image_name</th>\n",
        "      <th>patient_id</th>\n",
        "      <th>view</th>\n",
        "      <th>side</th>\n",
        "      <th>class</th>\n",
        "    </tr>\n",
        "    <tr>\n",
        "      <th>image_name</th>\n",
        "      <th></th>\n",
        "      <th></th>\n",
        "      <th></th>\n",
        "      <th></th>\n",
        "      <th></th>\n",
        "      <th></th>\n",
        "      <th></th>\n",
        "      <th></th>\n",
        "    </tr>\n",
        "  </thead>\n",
        "  <tbody>\n",
        "    <tr>\n",
        "      <th>p214-010-60001-cl.png</th>\n",
        "      <td> 1639</td>\n",
        "      <td> 536</td>\n",
        "      <td> 128.000000</td>\n",
        "      <td> p214-010-60001-cl.png</td>\n",
        "      <td> 21401060001</td>\n",
        "      <td> c</td>\n",
        "      <td> l</td>\n",
        "      <td> 3</td>\n",
        "    </tr>\n",
        "    <tr>\n",
        "      <th>p214-010-60001-cl.png</th>\n",
        "      <td> 1335</td>\n",
        "      <td> 328</td>\n",
        "      <td> 128.000000</td>\n",
        "      <td> p214-010-60001-cl.png</td>\n",
        "      <td> 21401060001</td>\n",
        "      <td> c</td>\n",
        "      <td> l</td>\n",
        "      <td> 3</td>\n",
        "    </tr>\n",
        "    <tr>\n",
        "      <th>p214-010-60001-cl.png</th>\n",
        "      <td> 1867</td>\n",
        "      <td> 636</td>\n",
        "      <td>  64.000000</td>\n",
        "      <td> p214-010-60001-cl.png</td>\n",
        "      <td> 21401060001</td>\n",
        "      <td> c</td>\n",
        "      <td> l</td>\n",
        "      <td> 3</td>\n",
        "    </tr>\n",
        "    <tr>\n",
        "      <th>p214-010-60001-cl.png</th>\n",
        "      <td> 2072</td>\n",
        "      <td> 648</td>\n",
        "      <td>  45.254834</td>\n",
        "      <td> p214-010-60001-cl.png</td>\n",
        "      <td> 21401060001</td>\n",
        "      <td> c</td>\n",
        "      <td> l</td>\n",
        "      <td> 3</td>\n",
        "    </tr>\n",
        "    <tr>\n",
        "      <th>p214-010-60001-cl.png</th>\n",
        "      <td> 2016</td>\n",
        "      <td> 839</td>\n",
        "      <td>  45.254834</td>\n",
        "      <td> p214-010-60001-cl.png</td>\n",
        "      <td> 21401060001</td>\n",
        "      <td> c</td>\n",
        "      <td> l</td>\n",
        "      <td> 3</td>\n",
        "    </tr>\n",
        "  </tbody>\n",
        "</table>\n",
        "</div>"
       ],
       "metadata": {},
       "output_type": "pyout",
       "prompt_number": 2,
       "text": [
        "                          x    y      radius             image_name  \\\n",
        "image_name                                                            \n",
        "p214-010-60001-cl.png  1639  536  128.000000  p214-010-60001-cl.png   \n",
        "p214-010-60001-cl.png  1335  328  128.000000  p214-010-60001-cl.png   \n",
        "p214-010-60001-cl.png  1867  636   64.000000  p214-010-60001-cl.png   \n",
        "p214-010-60001-cl.png  2072  648   45.254834  p214-010-60001-cl.png   \n",
        "p214-010-60001-cl.png  2016  839   45.254834  p214-010-60001-cl.png   \n",
        "\n",
        "                        patient_id view side  class  \n",
        "image_name                                           \n",
        "p214-010-60001-cl.png  21401060001    c    l      3  \n",
        "p214-010-60001-cl.png  21401060001    c    l      3  \n",
        "p214-010-60001-cl.png  21401060001    c    l      3  \n",
        "p214-010-60001-cl.png  21401060001    c    l      3  \n",
        "p214-010-60001-cl.png  21401060001    c    l      3  "
       ]
      }
     ],
     "prompt_number": 2
    },
    {
     "cell_type": "code",
     "collapsed": false,
     "input": [
      "features = mia.reduction.feature_statistics(raw)\n",
      "features.describe()"
     ],
     "language": "python",
     "metadata": {},
     "outputs": [
      {
       "html": [
        "<div style=\"max-height:1000px;max-width:1500px;overflow:auto;\">\n",
        "<table border=\"1\" class=\"dataframe\">\n",
        "  <thead>\n",
        "    <tr style=\"text-align: right;\">\n",
        "      <th></th>\n",
        "      <th>blob_count</th>\n",
        "      <th>avg_radius</th>\n",
        "      <th>std_radius</th>\n",
        "      <th>min_radius</th>\n",
        "      <th>max_radius</th>\n",
        "      <th>small_radius_count</th>\n",
        "      <th>med_radius_count</th>\n",
        "      <th>large_radius_count</th>\n",
        "      <th>density</th>\n",
        "      <th>lower_radius_qt</th>\n",
        "      <th>upper_radius_qt</th>\n",
        "      <th>upper_dist_count</th>\n",
        "      <th>patient_id</th>\n",
        "      <th>class</th>\n",
        "    </tr>\n",
        "  </thead>\n",
        "  <tbody>\n",
        "    <tr>\n",
        "      <th>count</th>\n",
        "      <td> 360.000000</td>\n",
        "      <td> 360.000000</td>\n",
        "      <td> 360.000000</td>\n",
        "      <td> 360</td>\n",
        "      <td> 360.000000</td>\n",
        "      <td> 360.000000</td>\n",
        "      <td> 360.000000</td>\n",
        "      <td> 360.000000</td>\n",
        "      <td> 360.000000</td>\n",
        "      <td> 360.000000</td>\n",
        "      <td> 360.000000</td>\n",
        "      <td> 360.000000</td>\n",
        "      <td> 3.600000e+02</td>\n",
        "      <td> 360.000000</td>\n",
        "    </tr>\n",
        "    <tr>\n",
        "      <th>mean</th>\n",
        "      <td> 156.852778</td>\n",
        "      <td>  18.693714</td>\n",
        "      <td>  21.523458</td>\n",
        "      <td>   8</td>\n",
        "      <td> 153.189790</td>\n",
        "      <td> 151.250000</td>\n",
        "      <td>   2.725000</td>\n",
        "      <td>   2.877778</td>\n",
        "      <td>  60.871859</td>\n",
        "      <td>   8.197902</td>\n",
        "      <td>  18.691750</td>\n",
        "      <td>  41.675000</td>\n",
        "      <td> 2.140106e+10</td>\n",
        "      <td>   2.533333</td>\n",
        "    </tr>\n",
        "    <tr>\n",
        "      <th>std</th>\n",
        "      <td>  99.265677</td>\n",
        "      <td>   4.080252</td>\n",
        "      <td>   7.966148</td>\n",
        "      <td>   0</td>\n",
        "      <td>  39.602474</td>\n",
        "      <td>  98.051511</td>\n",
        "      <td>   3.780088</td>\n",
        "      <td>   1.566201</td>\n",
        "      <td>  13.039158</td>\n",
        "      <td>   0.764154</td>\n",
        "      <td>   4.394923</td>\n",
        "      <td>  32.620762</td>\n",
        "      <td> 5.295273e+02</td>\n",
        "      <td>   0.958178</td>\n",
        "    </tr>\n",
        "    <tr>\n",
        "      <th>min</th>\n",
        "      <td>  26.000000</td>\n",
        "      <td>  12.256703</td>\n",
        "      <td>   6.094591</td>\n",
        "      <td>   8</td>\n",
        "      <td>  45.254834</td>\n",
        "      <td>  23.000000</td>\n",
        "      <td>   0.000000</td>\n",
        "      <td>   1.000000</td>\n",
        "      <td>  42.650978</td>\n",
        "      <td>   8.000000</td>\n",
        "      <td>  11.313708</td>\n",
        "      <td>   5.000000</td>\n",
        "      <td> 2.140106e+10</td>\n",
        "      <td>   1.000000</td>\n",
        "    </tr>\n",
        "    <tr>\n",
        "      <th>25%</th>\n",
        "      <td>  82.000000</td>\n",
        "      <td>  15.775176</td>\n",
        "      <td>  15.420732</td>\n",
        "      <td>   8</td>\n",
        "      <td> 128.000000</td>\n",
        "      <td>  77.750000</td>\n",
        "      <td>   1.000000</td>\n",
        "      <td>   2.000000</td>\n",
        "      <td>  51.612142</td>\n",
        "      <td>   8.000000</td>\n",
        "      <td>  16.000000</td>\n",
        "      <td>  20.000000</td>\n",
        "      <td> 2.140106e+10</td>\n",
        "      <td>   2.000000</td>\n",
        "    </tr>\n",
        "    <tr>\n",
        "      <th>50%</th>\n",
        "      <td> 132.500000</td>\n",
        "      <td>  17.922227</td>\n",
        "      <td>  21.204195</td>\n",
        "      <td>   8</td>\n",
        "      <td> 181.019336</td>\n",
        "      <td> 127.500000</td>\n",
        "      <td>   2.000000</td>\n",
        "      <td>   2.000000</td>\n",
        "      <td>  57.892584</td>\n",
        "      <td>   8.000000</td>\n",
        "      <td>  16.000000</td>\n",
        "      <td>  31.000000</td>\n",
        "      <td> 2.140106e+10</td>\n",
        "      <td>   3.000000</td>\n",
        "    </tr>\n",
        "    <tr>\n",
        "      <th>75%</th>\n",
        "      <td> 200.250000</td>\n",
        "      <td>  20.493649</td>\n",
        "      <td>  26.711628</td>\n",
        "      <td>   8</td>\n",
        "      <td> 181.019336</td>\n",
        "      <td> 190.500000</td>\n",
        "      <td>   3.000000</td>\n",
        "      <td>   4.000000</td>\n",
        "      <td>  66.955485</td>\n",
        "      <td>   8.000000</td>\n",
        "      <td>  22.627417</td>\n",
        "      <td>  52.000000</td>\n",
        "      <td> 2.140106e+10</td>\n",
        "      <td>   3.000000</td>\n",
        "    </tr>\n",
        "    <tr>\n",
        "      <th>max</th>\n",
        "      <td> 631.000000</td>\n",
        "      <td>  37.188077</td>\n",
        "      <td>  51.391117</td>\n",
        "      <td>   8</td>\n",
        "      <td> 181.019336</td>\n",
        "      <td> 628.000000</td>\n",
        "      <td>  34.000000</td>\n",
        "      <td>   8.000000</td>\n",
        "      <td> 111.438717</td>\n",
        "      <td>  11.313708</td>\n",
        "      <td>  45.254834</td>\n",
        "      <td> 241.000000</td>\n",
        "      <td> 2.140106e+10</td>\n",
        "      <td>   4.000000</td>\n",
        "    </tr>\n",
        "  </tbody>\n",
        "</table>\n",
        "</div>"
       ],
       "metadata": {},
       "output_type": "pyout",
       "prompt_number": 3,
       "text": [
        "       blob_count  avg_radius  std_radius  min_radius  max_radius  \\\n",
        "count  360.000000  360.000000  360.000000         360  360.000000   \n",
        "mean   156.852778   18.693714   21.523458           8  153.189790   \n",
        "std     99.265677    4.080252    7.966148           0   39.602474   \n",
        "min     26.000000   12.256703    6.094591           8   45.254834   \n",
        "25%     82.000000   15.775176   15.420732           8  128.000000   \n",
        "50%    132.500000   17.922227   21.204195           8  181.019336   \n",
        "75%    200.250000   20.493649   26.711628           8  181.019336   \n",
        "max    631.000000   37.188077   51.391117           8  181.019336   \n",
        "\n",
        "       small_radius_count  med_radius_count  large_radius_count     density  \\\n",
        "count          360.000000        360.000000          360.000000  360.000000   \n",
        "mean           151.250000          2.725000            2.877778   60.871859   \n",
        "std             98.051511          3.780088            1.566201   13.039158   \n",
        "min             23.000000          0.000000            1.000000   42.650978   \n",
        "25%             77.750000          1.000000            2.000000   51.612142   \n",
        "50%            127.500000          2.000000            2.000000   57.892584   \n",
        "75%            190.500000          3.000000            4.000000   66.955485   \n",
        "max            628.000000         34.000000            8.000000  111.438717   \n",
        "\n",
        "       lower_radius_qt  upper_radius_qt  upper_dist_count    patient_id  \\\n",
        "count       360.000000       360.000000        360.000000  3.600000e+02   \n",
        "mean          8.197902        18.691750         41.675000  2.140106e+10   \n",
        "std           0.764154         4.394923         32.620762  5.295273e+02   \n",
        "min           8.000000        11.313708          5.000000  2.140106e+10   \n",
        "25%           8.000000        16.000000         20.000000  2.140106e+10   \n",
        "50%           8.000000        16.000000         31.000000  2.140106e+10   \n",
        "75%           8.000000        22.627417         52.000000  2.140106e+10   \n",
        "max          11.313708        45.254834        241.000000  2.140106e+10   \n",
        "\n",
        "            class  \n",
        "count  360.000000  \n",
        "mean     2.533333  \n",
        "std      0.958178  \n",
        "min      1.000000  \n",
        "25%      2.000000  \n",
        "50%      3.000000  \n",
        "75%      3.000000  \n",
        "max      4.000000  "
       ]
      }
     ],
     "prompt_number": 3
    },
    {
     "cell_type": "code",
     "collapsed": false,
     "input": [
      "r = raw[raw['radius'] > 30]\n",
      "mia.plotting.plot_risk_classes(r, 'radius')"
     ],
     "language": "python",
     "metadata": {},
     "outputs": [
      {
       "metadata": {},
       "output_type": "display_data",
       "png": "[encoded data removed]",
       "text": [
        "<matplotlib.figure.Figure at 0x10a856a90>"
       ]
      }
     ],
     "prompt_number": 4
    },
    {
     "cell_type": "code",
     "collapsed": false,
     "input": [
      "mia.plotting.plot_risk_classes(features, 'upper_dist_count')"
     ],
     "language": "python",
     "metadata": {},
     "outputs": [
      {
       "metadata": {},
       "output_type": "display_data",
       "png": "[encoded data removed]",
       "text": [
        "<matplotlib.figure.Figure at 0x10e961f10>"
       ]
      }
     ],
     "prompt_number": 16
    },
    {
     "cell_type": "code",
     "collapsed": false,
     "input": [
      "selected_columns = ['blob_count', 'avg_radius', 'std_radius', 'upper_radius_qt']\n",
      "selected_features = features[selected_columns]\n",
      "selected_features.describe()"
     ],
     "language": "python",
     "metadata": {},
     "outputs": [
      {
       "html": [
        "<div style=\"max-height:1000px;max-width:1500px;overflow:auto;\">\n",
        "<table border=\"1\" class=\"dataframe\">\n",
        "  <thead>\n",
        "    <tr style=\"text-align: right;\">\n",
        "      <th></th>\n",
        "      <th>blob_count</th>\n",
        "      <th>avg_radius</th>\n",
        "      <th>std_radius</th>\n",
        "      <th>upper_radius_qt</th>\n",
        "    </tr>\n",
        "  </thead>\n",
        "  <tbody>\n",
        "    <tr>\n",
        "      <th>count</th>\n",
        "      <td> 360.000000</td>\n",
        "      <td> 360.000000</td>\n",
        "      <td> 360.000000</td>\n",
        "      <td> 360.000000</td>\n",
        "    </tr>\n",
        "    <tr>\n",
        "      <th>mean</th>\n",
        "      <td> 156.852778</td>\n",
        "      <td>  18.693714</td>\n",
        "      <td>  21.523458</td>\n",
        "      <td>  18.691750</td>\n",
        "    </tr>\n",
        "    <tr>\n",
        "      <th>std</th>\n",
        "      <td>  99.265677</td>\n",
        "      <td>   4.080252</td>\n",
        "      <td>   7.966148</td>\n",
        "      <td>   4.394923</td>\n",
        "    </tr>\n",
        "    <tr>\n",
        "      <th>min</th>\n",
        "      <td>  26.000000</td>\n",
        "      <td>  12.256703</td>\n",
        "      <td>   6.094591</td>\n",
        "      <td>  11.313708</td>\n",
        "    </tr>\n",
        "    <tr>\n",
        "      <th>25%</th>\n",
        "      <td>  82.000000</td>\n",
        "      <td>  15.775176</td>\n",
        "      <td>  15.420732</td>\n",
        "      <td>  16.000000</td>\n",
        "    </tr>\n",
        "    <tr>\n",
        "      <th>50%</th>\n",
        "      <td> 132.500000</td>\n",
        "      <td>  17.922227</td>\n",
        "      <td>  21.204195</td>\n",
        "      <td>  16.000000</td>\n",
        "    </tr>\n",
        "    <tr>\n",
        "      <th>75%</th>\n",
        "      <td> 200.250000</td>\n",
        "      <td>  20.493649</td>\n",
        "      <td>  26.711628</td>\n",
        "      <td>  22.627417</td>\n",
        "    </tr>\n",
        "    <tr>\n",
        "      <th>max</th>\n",
        "      <td> 631.000000</td>\n",
        "      <td>  37.188077</td>\n",
        "      <td>  51.391117</td>\n",
        "      <td>  45.254834</td>\n",
        "    </tr>\n",
        "  </tbody>\n",
        "</table>\n",
        "</div>"
       ],
       "metadata": {},
       "output_type": "pyout",
       "prompt_number": 30,
       "text": [
        "       blob_count  avg_radius  std_radius  upper_radius_qt\n",
        "count  360.000000  360.000000  360.000000       360.000000\n",
        "mean   156.852778   18.693714   21.523458        18.691750\n",
        "std     99.265677    4.080252    7.966148         4.394923\n",
        "min     26.000000   12.256703    6.094591        11.313708\n",
        "25%     82.000000   15.775176   15.420732        16.000000\n",
        "50%    132.500000   17.922227   21.204195        16.000000\n",
        "75%    200.250000   20.493649   26.711628        22.627417\n",
        "max    631.000000   37.188077   51.391117        45.254834"
       ]
      }
     ],
     "prompt_number": 30
    },
    {
     "cell_type": "code",
     "collapsed": false,
     "input": [
      "%matplotlib qt\n",
      "mapping = mia.analysis.tSNE(selected_features, n_components=3, learning_rate=200, perplexity=35,\n",
      "                            early_exaggeration=4.0, verbose=2)\n",
      "mapping['class'] = features['class']\n",
      "# mia.plotting.plot_scatter_2d(mapping, [0,1], labels='class')\n",
      "mia.plotting.plot_scatter_3d(mapping, [0,1,2], labels=mapping['class'])"
     ],
     "language": "python",
     "metadata": {},
     "outputs": [
      {
       "output_type": "stream",
       "stream": "stdout",
       "text": [
        "[t-SNE] Computing pairwise distances...\n",
        "[t-SNE] Computed conditional probabilities for sample 360 / 360"
       ]
      },
      {
       "output_type": "stream",
       "stream": "stdout",
       "text": [
        "\n",
        "[t-SNE] Mean sigma: 0.488665\n",
        "[t-SNE] Iteration 10: error = 16.3209470, gradient norm = 0.1531477"
       ]
      },
      {
       "output_type": "stream",
       "stream": "stdout",
       "text": [
        "\n",
        "[t-SNE] Iteration 20: error = 12.1055069, gradient norm = 0.1728686"
       ]
      },
      {
       "output_type": "stream",
       "stream": "stdout",
       "text": [
        "\n",
        "[t-SNE] Iteration 30: error = 11.4114051, gradient norm = 0.1705614"
       ]
      },
      {
       "output_type": "stream",
       "stream": "stdout",
       "text": [
        "\n",
        "[t-SNE] Iteration 40: error = 11.6730105, gradient norm = 0.1540901"
       ]
      },
      {
       "output_type": "stream",
       "stream": "stdout",
       "text": [
        "\n",
        "[t-SNE] Iteration 50: error = 11.7546230, gradient norm = 0.1419830"
       ]
      },
      {
       "output_type": "stream",
       "stream": "stdout",
       "text": [
        "\n",
        "[t-SNE] Iteration 60: error = 12.2627918, gradient norm = 0.1569128"
       ]
      },
      {
       "output_type": "stream",
       "stream": "stdout",
       "text": [
        "\n",
        "[t-SNE] Iteration 70: error = 11.2874802, gradient norm = 0.1600637"
       ]
      },
      {
       "output_type": "stream",
       "stream": "stdout",
       "text": [
        "\n",
        "[t-SNE] Iteration 80: error = 11.4941722, gradient norm = 0.1550822"
       ]
      },
      {
       "output_type": "stream",
       "stream": "stdout",
       "text": [
        "\n",
        "[t-SNE] Iteration 83: did not make any progress during the last 30 episodes. Finished.\n",
        "[t-SNE] Error after 83 iterations with early exaggeration: 11.176040\n",
        "[t-SNE] Iteration 90: error = 0.5433609, gradient norm = 0.0200394"
       ]
      },
      {
       "output_type": "stream",
       "stream": "stdout",
       "text": [
        "\n",
        "[t-SNE] Iteration 100: error = 0.3091525, gradient norm = 0.0080954"
       ]
      },
      {
       "output_type": "stream",
       "stream": "stdout",
       "text": [
        "\n",
        "[t-SNE] Iteration 110: error = 0.2608823, gradient norm = 0.0041306"
       ]
      },
      {
       "output_type": "stream",
       "stream": "stdout",
       "text": [
        "\n",
        "[t-SNE] Iteration 120: error = 0.2478559, gradient norm = 0.0025223"
       ]
      },
      {
       "output_type": "stream",
       "stream": "stdout",
       "text": [
        "\n",
        "[t-SNE] Iteration 130: error = 0.2406393, gradient norm = 0.0024766"
       ]
      },
      {
       "output_type": "stream",
       "stream": "stdout",
       "text": [
        "\n",
        "[t-SNE] Iteration 140: error = 0.2368743, gradient norm = 0.0010233"
       ]
      },
      {
       "output_type": "stream",
       "stream": "stdout",
       "text": [
        "\n",
        "[t-SNE] Iteration 150: error = 0.2378585, gradient norm = 0.0007322"
       ]
      },
      {
       "output_type": "stream",
       "stream": "stdout",
       "text": [
        "\n",
        "[t-SNE] Iteration 160: error = 0.2381354, gradient norm = 0.0006945"
       ]
      },
      {
       "output_type": "stream",
       "stream": "stdout",
       "text": [
        "\n",
        "[t-SNE] Iteration 170: did not make any progress during the last 30 episodes. Finished."
       ]
      },
      {
       "output_type": "stream",
       "stream": "stdout",
       "text": [
        "\n",
        "[t-SNE] Error after 170 iterations: 0.238122\n"
       ]
      }
     ],
     "prompt_number": 37
    }
   ],
   "metadata": {}
  }
 ]
}